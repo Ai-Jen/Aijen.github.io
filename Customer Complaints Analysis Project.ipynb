{
 "cells": [
  {
   "cell_type": "markdown",
   "metadata": {},
   "source": [
    "### Import Libraries"
   ]
  },
  {
   "cell_type": "code",
   "execution_count": 1,
   "metadata": {},
   "outputs": [],
   "source": [
    "import pandas as pd\n",
    "import numpy as np\n",
    "import matplotlib.pyplot as plt"
   ]
  },
  {
   "cell_type": "markdown",
   "metadata": {},
   "source": [
    "### Reading the DataFrame"
   ]
  },
  {
   "cell_type": "code",
   "execution_count": 2,
   "metadata": {},
   "outputs": [
    {
     "data": {
      "text/html": [
       "<div>\n",
       "<style scoped>\n",
       "    .dataframe tbody tr th:only-of-type {\n",
       "        vertical-align: middle;\n",
       "    }\n",
       "\n",
       "    .dataframe tbody tr th {\n",
       "        vertical-align: top;\n",
       "    }\n",
       "\n",
       "    .dataframe thead th {\n",
       "        text-align: right;\n",
       "    }\n",
       "</style>\n",
       "<table border=\"1\" class=\"dataframe\">\n",
       "  <thead>\n",
       "    <tr style=\"text-align: right;\">\n",
       "      <th></th>\n",
       "      <th>Complaint ID</th>\n",
       "      <th>Date received</th>\n",
       "      <th>Product</th>\n",
       "      <th>Sub-product</th>\n",
       "      <th>Issue</th>\n",
       "      <th>Sub-issue</th>\n",
       "      <th>Company public response</th>\n",
       "      <th>Company</th>\n",
       "      <th>State</th>\n",
       "      <th>ZIP code</th>\n",
       "      <th>Consumer consent provided?</th>\n",
       "      <th>Submitted via</th>\n",
       "      <th>Date sent to company</th>\n",
       "      <th>Timely response?</th>\n",
       "      <th>Consumer disputed?</th>\n",
       "      <th>Company response to consumer</th>\n",
       "    </tr>\n",
       "  </thead>\n",
       "  <tbody>\n",
       "    <tr>\n",
       "      <th>0</th>\n",
       "      <td>2738619</td>\n",
       "      <td>2017-11-27</td>\n",
       "      <td>Mortgage</td>\n",
       "      <td>Conventional home mortgage</td>\n",
       "      <td>Trouble during payment process</td>\n",
       "      <td>NaN</td>\n",
       "      <td>No</td>\n",
       "      <td>NATIONSTAR MORTGAGE LLC</td>\n",
       "      <td>PA</td>\n",
       "      <td>189XX</td>\n",
       "      <td>Consent provided</td>\n",
       "      <td>Web</td>\n",
       "      <td>2017-11-27</td>\n",
       "      <td>Yes</td>\n",
       "      <td>Unknown</td>\n",
       "      <td>Closed with explanation</td>\n",
       "    </tr>\n",
       "    <tr>\n",
       "      <th>1</th>\n",
       "      <td>2933849</td>\n",
       "      <td>2018-06-12</td>\n",
       "      <td>Mortgage</td>\n",
       "      <td>Conventional home mortgage</td>\n",
       "      <td>Trouble during payment process</td>\n",
       "      <td>NaN</td>\n",
       "      <td>No</td>\n",
       "      <td>NATIONSTAR MORTGAGE LLC</td>\n",
       "      <td>CO</td>\n",
       "      <td>80132</td>\n",
       "      <td>Consent provided</td>\n",
       "      <td>Web</td>\n",
       "      <td>2018-06-12</td>\n",
       "      <td>Yes</td>\n",
       "      <td>Unknown</td>\n",
       "      <td>Closed with explanation</td>\n",
       "    </tr>\n",
       "    <tr>\n",
       "      <th>2</th>\n",
       "      <td>1165653</td>\n",
       "      <td>2014-12-21</td>\n",
       "      <td>Mortgage</td>\n",
       "      <td>Conventional fixed mortgage</td>\n",
       "      <td>Loan modification,collection,foreclosure</td>\n",
       "      <td>NaN</td>\n",
       "      <td>No</td>\n",
       "      <td>NATIONSTAR MORTGAGE LLC</td>\n",
       "      <td>CA</td>\n",
       "      <td>91701</td>\n",
       "      <td>Unknown</td>\n",
       "      <td>Web</td>\n",
       "      <td>2014-12-21</td>\n",
       "      <td>Yes</td>\n",
       "      <td>No</td>\n",
       "      <td>Closed with explanation</td>\n",
       "    </tr>\n",
       "    <tr>\n",
       "      <th>3</th>\n",
       "      <td>3316943</td>\n",
       "      <td>2019-07-24</td>\n",
       "      <td>Credit reporting, credit repair services, or o...</td>\n",
       "      <td>Credit reporting</td>\n",
       "      <td>Incorrect information on your report</td>\n",
       "      <td>Information belongs to someone else</td>\n",
       "      <td>Yes</td>\n",
       "      <td>Experian Information Solutions Inc.</td>\n",
       "      <td>CA</td>\n",
       "      <td>90221</td>\n",
       "      <td>Consent not provided</td>\n",
       "      <td>Web</td>\n",
       "      <td>2019-07-24</td>\n",
       "      <td>Yes</td>\n",
       "      <td>Unknown</td>\n",
       "      <td>Closed with explanation</td>\n",
       "    </tr>\n",
       "    <tr>\n",
       "      <th>4</th>\n",
       "      <td>3157550</td>\n",
       "      <td>2019-02-20</td>\n",
       "      <td>Payday loan, title loan, or personal loan</td>\n",
       "      <td>Installment loan</td>\n",
       "      <td>Struggling to pay your loan</td>\n",
       "      <td>NaN</td>\n",
       "      <td>No</td>\n",
       "      <td>Santander Consumer USA Holdings Inc.</td>\n",
       "      <td>NC</td>\n",
       "      <td>27410</td>\n",
       "      <td>Consent not provided</td>\n",
       "      <td>Web</td>\n",
       "      <td>2019-02-20</td>\n",
       "      <td>Yes</td>\n",
       "      <td>Unknown</td>\n",
       "      <td>Closed with explanation</td>\n",
       "    </tr>\n",
       "  </tbody>\n",
       "</table>\n",
       "</div>"
      ],
      "text/plain": [
       "   Complaint ID Date received  \\\n",
       "0       2738619    2017-11-27   \n",
       "1       2933849    2018-06-12   \n",
       "2       1165653    2014-12-21   \n",
       "3       3316943    2019-07-24   \n",
       "4       3157550    2019-02-20   \n",
       "\n",
       "                                             Product  \\\n",
       "0                                           Mortgage   \n",
       "1                                           Mortgage   \n",
       "2                                           Mortgage   \n",
       "3  Credit reporting, credit repair services, or o...   \n",
       "4          Payday loan, title loan, or personal loan   \n",
       "\n",
       "                   Sub-product                                     Issue  \\\n",
       "0   Conventional home mortgage            Trouble during payment process   \n",
       "1   Conventional home mortgage            Trouble during payment process   \n",
       "2  Conventional fixed mortgage  Loan modification,collection,foreclosure   \n",
       "3             Credit reporting      Incorrect information on your report   \n",
       "4             Installment loan               Struggling to pay your loan   \n",
       "\n",
       "                             Sub-issue Company public response  \\\n",
       "0                                  NaN                      No   \n",
       "1                                  NaN                      No   \n",
       "2                                  NaN                      No   \n",
       "3  Information belongs to someone else                     Yes   \n",
       "4                                  NaN                      No   \n",
       "\n",
       "                                Company State ZIP code  \\\n",
       "0               NATIONSTAR MORTGAGE LLC    PA    189XX   \n",
       "1               NATIONSTAR MORTGAGE LLC    CO    80132   \n",
       "2               NATIONSTAR MORTGAGE LLC    CA    91701   \n",
       "3   Experian Information Solutions Inc.    CA    90221   \n",
       "4  Santander Consumer USA Holdings Inc.    NC    27410   \n",
       "\n",
       "  Consumer consent provided? Submitted via Date sent to company  \\\n",
       "0           Consent provided           Web           2017-11-27   \n",
       "1           Consent provided           Web           2018-06-12   \n",
       "2                    Unknown           Web           2014-12-21   \n",
       "3       Consent not provided           Web           2019-07-24   \n",
       "4       Consent not provided           Web           2019-02-20   \n",
       "\n",
       "  Timely response? Consumer disputed? Company response to consumer  \n",
       "0              Yes            Unknown      Closed with explanation  \n",
       "1              Yes            Unknown      Closed with explanation  \n",
       "2              Yes                 No      Closed with explanation  \n",
       "3              Yes            Unknown      Closed with explanation  \n",
       "4              Yes            Unknown      Closed with explanation  "
      ]
     },
     "execution_count": 2,
     "metadata": {},
     "output_type": "execute_result"
    }
   ],
   "source": [
    "df = pd.read_csv(r\"C:\\Users\\jethro\\Desktop\\Data Analyst Portfolio\\Power BI\\Power BI Projects\\Customer Complaints 2\\customer_complaints.csv\")\n",
    "df.head()"
   ]
  },
  {
   "cell_type": "code",
   "execution_count": 4,
   "metadata": {},
   "outputs": [
    {
     "data": {
      "text/plain": [
       "(1473407, 16)"
      ]
     },
     "execution_count": 4,
     "metadata": {},
     "output_type": "execute_result"
    }
   ],
   "source": [
    "df.shape"
   ]
  },
  {
   "cell_type": "code",
   "execution_count": 5,
   "metadata": {},
   "outputs": [
    {
     "data": {
      "text/html": [
       "<div>\n",
       "<style scoped>\n",
       "    .dataframe tbody tr th:only-of-type {\n",
       "        vertical-align: middle;\n",
       "    }\n",
       "\n",
       "    .dataframe tbody tr th {\n",
       "        vertical-align: top;\n",
       "    }\n",
       "\n",
       "    .dataframe thead th {\n",
       "        text-align: right;\n",
       "    }\n",
       "</style>\n",
       "<table border=\"1\" class=\"dataframe\">\n",
       "  <thead>\n",
       "    <tr style=\"text-align: right;\">\n",
       "      <th></th>\n",
       "      <th>Complaint ID</th>\n",
       "    </tr>\n",
       "  </thead>\n",
       "  <tbody>\n",
       "    <tr>\n",
       "      <th>count</th>\n",
       "      <td>1.473407e+06</td>\n",
       "    </tr>\n",
       "    <tr>\n",
       "      <th>mean</th>\n",
       "      <td>2.115129e+06</td>\n",
       "    </tr>\n",
       "    <tr>\n",
       "      <th>std</th>\n",
       "      <td>1.020042e+06</td>\n",
       "    </tr>\n",
       "    <tr>\n",
       "      <th>min</th>\n",
       "      <td>1.000000e+00</td>\n",
       "    </tr>\n",
       "    <tr>\n",
       "      <th>25%</th>\n",
       "      <td>1.285269e+06</td>\n",
       "    </tr>\n",
       "    <tr>\n",
       "      <th>50%</th>\n",
       "      <td>2.369541e+06</td>\n",
       "    </tr>\n",
       "    <tr>\n",
       "      <th>75%</th>\n",
       "      <td>2.990971e+06</td>\n",
       "    </tr>\n",
       "    <tr>\n",
       "      <th>max</th>\n",
       "      <td>3.515502e+06</td>\n",
       "    </tr>\n",
       "  </tbody>\n",
       "</table>\n",
       "</div>"
      ],
      "text/plain": [
       "       Complaint ID\n",
       "count  1.473407e+06\n",
       "mean   2.115129e+06\n",
       "std    1.020042e+06\n",
       "min    1.000000e+00\n",
       "25%    1.285269e+06\n",
       "50%    2.369541e+06\n",
       "75%    2.990971e+06\n",
       "max    3.515502e+06"
      ]
     },
     "execution_count": 5,
     "metadata": {},
     "output_type": "execute_result"
    }
   ],
   "source": [
    "df.describe()"
   ]
  },
  {
   "cell_type": "markdown",
   "metadata": {},
   "source": [
    "### Cheking null values"
   ]
  },
  {
   "cell_type": "code",
   "execution_count": 6,
   "metadata": {},
   "outputs": [
    {
     "data": {
      "text/plain": [
       "Complaint ID                         0\n",
       "Date received                        0\n",
       "Product                              0\n",
       "Sub-product                     235198\n",
       "Issue                                0\n",
       "Sub-issue                       555259\n",
       "Company public response              0\n",
       "Company                              0\n",
       "State                            24508\n",
       "ZIP code                         20270\n",
       "Consumer consent provided?           0\n",
       "Submitted via                        0\n",
       "Date sent to company                 0\n",
       "Timely response?                     0\n",
       "Consumer disputed?                   0\n",
       "Company response to consumer         0\n",
       "dtype: int64"
      ]
     },
     "execution_count": 6,
     "metadata": {},
     "output_type": "execute_result"
    }
   ],
   "source": [
    "df.isnull().sum()"
   ]
  },
  {
   "cell_type": "markdown",
   "metadata": {},
   "source": [
    "### Splitting Date column to Year, Month, and Day"
   ]
  },
  {
   "cell_type": "code",
   "execution_count": 5,
   "metadata": {
    "scrolled": false
   },
   "outputs": [
    {
     "data": {
      "text/html": [
       "<div>\n",
       "<style scoped>\n",
       "    .dataframe tbody tr th:only-of-type {\n",
       "        vertical-align: middle;\n",
       "    }\n",
       "\n",
       "    .dataframe tbody tr th {\n",
       "        vertical-align: top;\n",
       "    }\n",
       "\n",
       "    .dataframe thead th {\n",
       "        text-align: right;\n",
       "    }\n",
       "</style>\n",
       "<table border=\"1\" class=\"dataframe\">\n",
       "  <thead>\n",
       "    <tr style=\"text-align: right;\">\n",
       "      <th></th>\n",
       "      <th>Complaint ID</th>\n",
       "      <th>Date received</th>\n",
       "      <th>Product</th>\n",
       "      <th>Sub-product</th>\n",
       "      <th>Issue</th>\n",
       "      <th>Sub-issue</th>\n",
       "      <th>Company public response</th>\n",
       "      <th>Company</th>\n",
       "      <th>State</th>\n",
       "      <th>ZIP code</th>\n",
       "      <th>Consumer consent provided?</th>\n",
       "      <th>Submitted via</th>\n",
       "      <th>Date sent to company</th>\n",
       "      <th>Timely response?</th>\n",
       "      <th>Consumer disputed?</th>\n",
       "      <th>Company response to consumer</th>\n",
       "      <th>year</th>\n",
       "      <th>month</th>\n",
       "      <th>day</th>\n",
       "    </tr>\n",
       "  </thead>\n",
       "  <tbody>\n",
       "    <tr>\n",
       "      <th>0</th>\n",
       "      <td>2738619</td>\n",
       "      <td>2017-11-27</td>\n",
       "      <td>Mortgage</td>\n",
       "      <td>Conventional home mortgage</td>\n",
       "      <td>Trouble during payment process</td>\n",
       "      <td>NaN</td>\n",
       "      <td>No</td>\n",
       "      <td>NATIONSTAR MORTGAGE LLC</td>\n",
       "      <td>PA</td>\n",
       "      <td>189XX</td>\n",
       "      <td>Consent provided</td>\n",
       "      <td>Web</td>\n",
       "      <td>2017-11-27</td>\n",
       "      <td>Yes</td>\n",
       "      <td>Unknown</td>\n",
       "      <td>Closed with explanation</td>\n",
       "      <td>2017</td>\n",
       "      <td>11</td>\n",
       "      <td>27</td>\n",
       "    </tr>\n",
       "    <tr>\n",
       "      <th>1</th>\n",
       "      <td>2933849</td>\n",
       "      <td>2018-06-12</td>\n",
       "      <td>Mortgage</td>\n",
       "      <td>Conventional home mortgage</td>\n",
       "      <td>Trouble during payment process</td>\n",
       "      <td>NaN</td>\n",
       "      <td>No</td>\n",
       "      <td>NATIONSTAR MORTGAGE LLC</td>\n",
       "      <td>CO</td>\n",
       "      <td>80132</td>\n",
       "      <td>Consent provided</td>\n",
       "      <td>Web</td>\n",
       "      <td>2018-06-12</td>\n",
       "      <td>Yes</td>\n",
       "      <td>Unknown</td>\n",
       "      <td>Closed with explanation</td>\n",
       "      <td>2018</td>\n",
       "      <td>06</td>\n",
       "      <td>12</td>\n",
       "    </tr>\n",
       "    <tr>\n",
       "      <th>2</th>\n",
       "      <td>1165653</td>\n",
       "      <td>2014-12-21</td>\n",
       "      <td>Mortgage</td>\n",
       "      <td>Conventional fixed mortgage</td>\n",
       "      <td>Loan modification,collection,foreclosure</td>\n",
       "      <td>NaN</td>\n",
       "      <td>No</td>\n",
       "      <td>NATIONSTAR MORTGAGE LLC</td>\n",
       "      <td>CA</td>\n",
       "      <td>91701</td>\n",
       "      <td>Unknown</td>\n",
       "      <td>Web</td>\n",
       "      <td>2014-12-21</td>\n",
       "      <td>Yes</td>\n",
       "      <td>No</td>\n",
       "      <td>Closed with explanation</td>\n",
       "      <td>2014</td>\n",
       "      <td>12</td>\n",
       "      <td>21</td>\n",
       "    </tr>\n",
       "    <tr>\n",
       "      <th>3</th>\n",
       "      <td>3316943</td>\n",
       "      <td>2019-07-24</td>\n",
       "      <td>Credit reporting, credit repair services, or o...</td>\n",
       "      <td>Credit reporting</td>\n",
       "      <td>Incorrect information on your report</td>\n",
       "      <td>Information belongs to someone else</td>\n",
       "      <td>Yes</td>\n",
       "      <td>Experian Information Solutions Inc.</td>\n",
       "      <td>CA</td>\n",
       "      <td>90221</td>\n",
       "      <td>Consent not provided</td>\n",
       "      <td>Web</td>\n",
       "      <td>2019-07-24</td>\n",
       "      <td>Yes</td>\n",
       "      <td>Unknown</td>\n",
       "      <td>Closed with explanation</td>\n",
       "      <td>2019</td>\n",
       "      <td>07</td>\n",
       "      <td>24</td>\n",
       "    </tr>\n",
       "    <tr>\n",
       "      <th>4</th>\n",
       "      <td>3157550</td>\n",
       "      <td>2019-02-20</td>\n",
       "      <td>Payday loan, title loan, or personal loan</td>\n",
       "      <td>Installment loan</td>\n",
       "      <td>Struggling to pay your loan</td>\n",
       "      <td>NaN</td>\n",
       "      <td>No</td>\n",
       "      <td>Santander Consumer USA Holdings Inc.</td>\n",
       "      <td>NC</td>\n",
       "      <td>27410</td>\n",
       "      <td>Consent not provided</td>\n",
       "      <td>Web</td>\n",
       "      <td>2019-02-20</td>\n",
       "      <td>Yes</td>\n",
       "      <td>Unknown</td>\n",
       "      <td>Closed with explanation</td>\n",
       "      <td>2019</td>\n",
       "      <td>02</td>\n",
       "      <td>20</td>\n",
       "    </tr>\n",
       "  </tbody>\n",
       "</table>\n",
       "</div>"
      ],
      "text/plain": [
       "   Complaint ID Date received  \\\n",
       "0       2738619    2017-11-27   \n",
       "1       2933849    2018-06-12   \n",
       "2       1165653    2014-12-21   \n",
       "3       3316943    2019-07-24   \n",
       "4       3157550    2019-02-20   \n",
       "\n",
       "                                             Product  \\\n",
       "0                                           Mortgage   \n",
       "1                                           Mortgage   \n",
       "2                                           Mortgage   \n",
       "3  Credit reporting, credit repair services, or o...   \n",
       "4          Payday loan, title loan, or personal loan   \n",
       "\n",
       "                   Sub-product                                     Issue  \\\n",
       "0   Conventional home mortgage            Trouble during payment process   \n",
       "1   Conventional home mortgage            Trouble during payment process   \n",
       "2  Conventional fixed mortgage  Loan modification,collection,foreclosure   \n",
       "3             Credit reporting      Incorrect information on your report   \n",
       "4             Installment loan               Struggling to pay your loan   \n",
       "\n",
       "                             Sub-issue Company public response  \\\n",
       "0                                  NaN                      No   \n",
       "1                                  NaN                      No   \n",
       "2                                  NaN                      No   \n",
       "3  Information belongs to someone else                     Yes   \n",
       "4                                  NaN                      No   \n",
       "\n",
       "                                Company State ZIP code  \\\n",
       "0               NATIONSTAR MORTGAGE LLC    PA    189XX   \n",
       "1               NATIONSTAR MORTGAGE LLC    CO    80132   \n",
       "2               NATIONSTAR MORTGAGE LLC    CA    91701   \n",
       "3   Experian Information Solutions Inc.    CA    90221   \n",
       "4  Santander Consumer USA Holdings Inc.    NC    27410   \n",
       "\n",
       "  Consumer consent provided? Submitted via Date sent to company  \\\n",
       "0           Consent provided           Web           2017-11-27   \n",
       "1           Consent provided           Web           2018-06-12   \n",
       "2                    Unknown           Web           2014-12-21   \n",
       "3       Consent not provided           Web           2019-07-24   \n",
       "4       Consent not provided           Web           2019-02-20   \n",
       "\n",
       "  Timely response? Consumer disputed? Company response to consumer  year  \\\n",
       "0              Yes            Unknown      Closed with explanation  2017   \n",
       "1              Yes            Unknown      Closed with explanation  2018   \n",
       "2              Yes                 No      Closed with explanation  2014   \n",
       "3              Yes            Unknown      Closed with explanation  2019   \n",
       "4              Yes            Unknown      Closed with explanation  2019   \n",
       "\n",
       "  month day  \n",
       "0    11  27  \n",
       "1    06  12  \n",
       "2    12  21  \n",
       "3    07  24  \n",
       "4    02  20  "
      ]
     },
     "execution_count": 5,
     "metadata": {},
     "output_type": "execute_result"
    }
   ],
   "source": [
    "df[[\"year\", \"month\",\"day\"]] = df[\"Date received\"].str.split(\"-\", expand = True)\n",
    "df.head()"
   ]
  },
  {
   "cell_type": "code",
   "execution_count": 61,
   "metadata": {},
   "outputs": [],
   "source": [
    "df['year'] = df['year'].astype('int64')\n",
    "df['month'] = df['month'].astype('int64')\n",
    "df['day'] = df['day'].astype('int64')"
   ]
  },
  {
   "cell_type": "markdown",
   "metadata": {},
   "source": [
    "### Categorizing the Issue"
   ]
  },
  {
   "cell_type": "code",
   "execution_count": 4,
   "metadata": {
    "scrolled": false
   },
   "outputs": [
    {
     "data": {
      "text/html": [
       "<div>\n",
       "<style scoped>\n",
       "    .dataframe tbody tr th:only-of-type {\n",
       "        vertical-align: middle;\n",
       "    }\n",
       "\n",
       "    .dataframe tbody tr th {\n",
       "        vertical-align: top;\n",
       "    }\n",
       "\n",
       "    .dataframe thead th {\n",
       "        text-align: right;\n",
       "    }\n",
       "</style>\n",
       "<table border=\"1\" class=\"dataframe\">\n",
       "  <thead>\n",
       "    <tr style=\"text-align: right;\">\n",
       "      <th></th>\n",
       "      <th>Complaint ID</th>\n",
       "      <th>Date received</th>\n",
       "      <th>Product</th>\n",
       "      <th>Sub-product</th>\n",
       "      <th>Issue</th>\n",
       "      <th>Sub-issue</th>\n",
       "      <th>Company public response</th>\n",
       "      <th>Company</th>\n",
       "      <th>State</th>\n",
       "      <th>ZIP code</th>\n",
       "      <th>Consumer consent provided?</th>\n",
       "      <th>Submitted via</th>\n",
       "      <th>Date sent to company</th>\n",
       "      <th>Timely response?</th>\n",
       "      <th>Consumer disputed?</th>\n",
       "      <th>Company response to consumer</th>\n",
       "      <th>year</th>\n",
       "      <th>month</th>\n",
       "      <th>day</th>\n",
       "    </tr>\n",
       "  </thead>\n",
       "  <tbody>\n",
       "    <tr>\n",
       "      <th>0</th>\n",
       "      <td>2738619</td>\n",
       "      <td>2017-11-27</td>\n",
       "      <td>Mortgage</td>\n",
       "      <td>Conventional home mortgage</td>\n",
       "      <td>trouble during payment process</td>\n",
       "      <td>NaN</td>\n",
       "      <td>No</td>\n",
       "      <td>NATIONSTAR MORTGAGE LLC</td>\n",
       "      <td>PA</td>\n",
       "      <td>189XX</td>\n",
       "      <td>Consent provided</td>\n",
       "      <td>Web</td>\n",
       "      <td>2017-11-27</td>\n",
       "      <td>Yes</td>\n",
       "      <td>Unknown</td>\n",
       "      <td>Closed with explanation</td>\n",
       "      <td>2017</td>\n",
       "      <td>11</td>\n",
       "      <td>27</td>\n",
       "    </tr>\n",
       "    <tr>\n",
       "      <th>1</th>\n",
       "      <td>2933849</td>\n",
       "      <td>2018-06-12</td>\n",
       "      <td>Mortgage</td>\n",
       "      <td>Conventional home mortgage</td>\n",
       "      <td>trouble during payment process</td>\n",
       "      <td>NaN</td>\n",
       "      <td>No</td>\n",
       "      <td>NATIONSTAR MORTGAGE LLC</td>\n",
       "      <td>CO</td>\n",
       "      <td>80132</td>\n",
       "      <td>Consent provided</td>\n",
       "      <td>Web</td>\n",
       "      <td>2018-06-12</td>\n",
       "      <td>Yes</td>\n",
       "      <td>Unknown</td>\n",
       "      <td>Closed with explanation</td>\n",
       "      <td>2018</td>\n",
       "      <td>06</td>\n",
       "      <td>12</td>\n",
       "    </tr>\n",
       "    <tr>\n",
       "      <th>2</th>\n",
       "      <td>1165653</td>\n",
       "      <td>2014-12-21</td>\n",
       "      <td>Mortgage</td>\n",
       "      <td>Conventional fixed mortgage</td>\n",
       "      <td>loan modification,collection,foreclosure</td>\n",
       "      <td>NaN</td>\n",
       "      <td>No</td>\n",
       "      <td>NATIONSTAR MORTGAGE LLC</td>\n",
       "      <td>CA</td>\n",
       "      <td>91701</td>\n",
       "      <td>Unknown</td>\n",
       "      <td>Web</td>\n",
       "      <td>2014-12-21</td>\n",
       "      <td>Yes</td>\n",
       "      <td>No</td>\n",
       "      <td>Closed with explanation</td>\n",
       "      <td>2014</td>\n",
       "      <td>12</td>\n",
       "      <td>21</td>\n",
       "    </tr>\n",
       "    <tr>\n",
       "      <th>3</th>\n",
       "      <td>3316943</td>\n",
       "      <td>2019-07-24</td>\n",
       "      <td>Credit reporting, credit repair services, or o...</td>\n",
       "      <td>Credit reporting</td>\n",
       "      <td>incorrect information on your report</td>\n",
       "      <td>Information belongs to someone else</td>\n",
       "      <td>Yes</td>\n",
       "      <td>Experian Information Solutions Inc.</td>\n",
       "      <td>CA</td>\n",
       "      <td>90221</td>\n",
       "      <td>Consent not provided</td>\n",
       "      <td>Web</td>\n",
       "      <td>2019-07-24</td>\n",
       "      <td>Yes</td>\n",
       "      <td>Unknown</td>\n",
       "      <td>Closed with explanation</td>\n",
       "      <td>2019</td>\n",
       "      <td>07</td>\n",
       "      <td>24</td>\n",
       "    </tr>\n",
       "    <tr>\n",
       "      <th>4</th>\n",
       "      <td>3157550</td>\n",
       "      <td>2019-02-20</td>\n",
       "      <td>Payday loan, title loan, or personal loan</td>\n",
       "      <td>Installment loan</td>\n",
       "      <td>struggling to pay your loan</td>\n",
       "      <td>NaN</td>\n",
       "      <td>No</td>\n",
       "      <td>Santander Consumer USA Holdings Inc.</td>\n",
       "      <td>NC</td>\n",
       "      <td>27410</td>\n",
       "      <td>Consent not provided</td>\n",
       "      <td>Web</td>\n",
       "      <td>2019-02-20</td>\n",
       "      <td>Yes</td>\n",
       "      <td>Unknown</td>\n",
       "      <td>Closed with explanation</td>\n",
       "      <td>2019</td>\n",
       "      <td>02</td>\n",
       "      <td>20</td>\n",
       "    </tr>\n",
       "  </tbody>\n",
       "</table>\n",
       "</div>"
      ],
      "text/plain": [
       "   Complaint ID Date received  \\\n",
       "0       2738619    2017-11-27   \n",
       "1       2933849    2018-06-12   \n",
       "2       1165653    2014-12-21   \n",
       "3       3316943    2019-07-24   \n",
       "4       3157550    2019-02-20   \n",
       "\n",
       "                                             Product  \\\n",
       "0                                           Mortgage   \n",
       "1                                           Mortgage   \n",
       "2                                           Mortgage   \n",
       "3  Credit reporting, credit repair services, or o...   \n",
       "4          Payday loan, title loan, or personal loan   \n",
       "\n",
       "                   Sub-product                                     Issue  \\\n",
       "0   Conventional home mortgage            trouble during payment process   \n",
       "1   Conventional home mortgage            trouble during payment process   \n",
       "2  Conventional fixed mortgage  loan modification,collection,foreclosure   \n",
       "3             Credit reporting      incorrect information on your report   \n",
       "4             Installment loan               struggling to pay your loan   \n",
       "\n",
       "                             Sub-issue Company public response  \\\n",
       "0                                  NaN                      No   \n",
       "1                                  NaN                      No   \n",
       "2                                  NaN                      No   \n",
       "3  Information belongs to someone else                     Yes   \n",
       "4                                  NaN                      No   \n",
       "\n",
       "                                Company State ZIP code  \\\n",
       "0               NATIONSTAR MORTGAGE LLC    PA    189XX   \n",
       "1               NATIONSTAR MORTGAGE LLC    CO    80132   \n",
       "2               NATIONSTAR MORTGAGE LLC    CA    91701   \n",
       "3   Experian Information Solutions Inc.    CA    90221   \n",
       "4  Santander Consumer USA Holdings Inc.    NC    27410   \n",
       "\n",
       "  Consumer consent provided? Submitted via Date sent to company  \\\n",
       "0           Consent provided           Web           2017-11-27   \n",
       "1           Consent provided           Web           2018-06-12   \n",
       "2                    Unknown           Web           2014-12-21   \n",
       "3       Consent not provided           Web           2019-07-24   \n",
       "4       Consent not provided           Web           2019-02-20   \n",
       "\n",
       "  Timely response? Consumer disputed? Company response to consumer  year  \\\n",
       "0              Yes            Unknown      Closed with explanation  2017   \n",
       "1              Yes            Unknown      Closed with explanation  2018   \n",
       "2              Yes                 No      Closed with explanation  2014   \n",
       "3              Yes            Unknown      Closed with explanation  2019   \n",
       "4              Yes            Unknown      Closed with explanation  2019   \n",
       "\n",
       "  month day  \n",
       "0    11  27  \n",
       "1    06  12  \n",
       "2    12  21  \n",
       "3    07  24  \n",
       "4    02  20  "
      ]
     },
     "execution_count": 4,
     "metadata": {},
     "output_type": "execute_result"
    }
   ],
   "source": [
    "df['Issue'] = df['Issue'].str.lower()\n",
    "\n",
    "df.head()"
   ]
  },
  {
   "cell_type": "code",
   "execution_count": 5,
   "metadata": {},
   "outputs": [
    {
     "data": {
      "text/html": [
       "<div>\n",
       "<style scoped>\n",
       "    .dataframe tbody tr th:only-of-type {\n",
       "        vertical-align: middle;\n",
       "    }\n",
       "\n",
       "    .dataframe tbody tr th {\n",
       "        vertical-align: top;\n",
       "    }\n",
       "\n",
       "    .dataframe thead th {\n",
       "        text-align: right;\n",
       "    }\n",
       "</style>\n",
       "<table border=\"1\" class=\"dataframe\">\n",
       "  <thead>\n",
       "    <tr style=\"text-align: right;\">\n",
       "      <th></th>\n",
       "      <th>Complaint ID</th>\n",
       "      <th>Date received</th>\n",
       "      <th>Product</th>\n",
       "      <th>Sub-product</th>\n",
       "      <th>Issue</th>\n",
       "      <th>Sub-issue</th>\n",
       "      <th>Company public response</th>\n",
       "      <th>Company</th>\n",
       "      <th>State</th>\n",
       "      <th>ZIP code</th>\n",
       "      <th>Consumer consent provided?</th>\n",
       "      <th>Submitted via</th>\n",
       "      <th>Date sent to company</th>\n",
       "      <th>Timely response?</th>\n",
       "      <th>Consumer disputed?</th>\n",
       "      <th>Company response to consumer</th>\n",
       "      <th>year</th>\n",
       "      <th>month</th>\n",
       "      <th>day</th>\n",
       "      <th>issue_filtered</th>\n",
       "    </tr>\n",
       "  </thead>\n",
       "  <tbody>\n",
       "  </tbody>\n",
       "</table>\n",
       "</div>"
      ],
      "text/plain": [
       "Empty DataFrame\n",
       "Columns: [Complaint ID, Date received, Product, Sub-product, Issue, Sub-issue, Company public response, Company, State, ZIP code, Consumer consent provided?, Submitted via, Date sent to company, Timely response?, Consumer disputed?, Company response to consumer, year, month, day, issue_filtered]\n",
       "Index: []"
      ]
     },
     "execution_count": 5,
     "metadata": {},
     "output_type": "execute_result"
    }
   ],
   "source": [
    "df[\"issue_filtered\"] = pd.np.where(df.Issue.str.contains(\"payment\"),\"payment\",\n",
    "                                pd.np.where(df.Issue.str.contains(\"loan\"),\"loan\",\n",
    "                                pd.np.where(df.Issue.str.contains(\"credit\"),\"credit\",\n",
    "                                pd.np.where(df.Issue.str.contains(\"debt\"),\"debt\",\n",
    "                                pd.np.where(df.Issue.str.contains(\"settlement\"),\"settlement\",\n",
    "                                pd.np.where(df.Issue.str.contains(\"report\"),\"report\",\n",
    "                                pd.np.where(df.Issue.str.contains(\"communication\"),\"comms\",\n",
    "                                pd.np.where(df.Issue.str.contains(\"account\"),\"account\",\n",
    "                                pd.np.where(df.Issue.str.contains(\"mortgage\"),\"mortgage\",\n",
    "                                pd.np.where(df.Issue.str.contains(\"lender\"),\"lender\",\n",
    "                                pd.np.where(df.Issue.str.contains(\"payoff\"),\"payoff\",\n",
    "                                pd.np.where(df.Issue.str.contains(\"pay\"),\"payment\",\n",
    "                                pd.np.where(df.Issue.str.contains(\"billing\"),\"billing\",\n",
    "                                pd.np.where(df.Issue.str.contains(\"payoff\"),\"payoff\",\n",
    "                                pd.np.where(df.Issue.str.contains(\"deposits and withdrawals\"),\"deposits and withdrawals\",\n",
    "                                pd.np.where(df.Issue.str.contains(\"customer service\"),\"customer service\",\n",
    "                                pd.np.where(df.Issue.str.contains(\"other\"),\"other\",\n",
    "                                pd.np.where(df.Issue.str.contains(\"false statements\"),\"false statements\",\n",
    "                                pd.np.where(df.Issue.str.contains(\"other\"),\"other\",\n",
    "                                pd.np.where(df.Issue.str.contains(\"interest\"),\"interest\",\n",
    "                                pd.np.where(df.Issue.str.contains(\"purchase\"),\"purchase\",\n",
    "                                pd.np.where(df.Issue.str.contains(\"fraud\"),\"fraud\",\n",
    "                                pd.np.where(df.Issue.str.contains(\"advertising and marketing\"),\"advertising\",\n",
    "                                pd.np.where(df.Issue.str.contains(\"fee\"),\"fee\",\n",
    "                                pd.np.where(df.Issue.str.contains(\"contact\"),\"contact\",\n",
    "                                pd.np.where(df.Issue.str.contains(\"money\"),\"money\",\n",
    "                                pd.np.where(df.Issue.str.contains(\"card\"),\"card\",\n",
    "                                pd.np.where(df.Issue.str.contains(\"advertising\"),\"advertising\",\n",
    "                                pd.np.where(df.Issue.str.contains(\"transaction\"),\"transaction\",\n",
    "                                pd.np.where(df.Issue.str.contains(\"balance transfer\"),\"transaction\",\n",
    "                                pd.np.where(df.Issue.str.contains(\"rewards\"),\"rewards\",\n",
    "                                pd.np.where(df.Issue.str.contains(\"collection\"),\"collection\",\n",
    "                                pd.np.where(df.Issue.str.contains(\"funds\"),\"funds\",\n",
    "                                pd.np.where(df.Issue.str.contains(\"legal action\"),\"sue\",\n",
    "                                pd.np.where(df.Issue.str.contains(\"vehicle\"),\"vehicle\",\n",
    "                                pd.np.where(df.Issue.str.contains(\"disclosures\"),\"disclosures\",\n",
    "                                pd.np.where(df.Issue.str.contains(\"investigation\"),\"investigation\",\n",
    "                                pd.np.where(df.Issue.str.contains(\"loan\"),\"loan\",\n",
    "                                pd.np.where(df.Issue.str.contains(\"application\"),\"application\",\n",
    "                                pd.np.where(df.Issue.str.contains(\"bankruptcy\"),\"bankruptcy\",\n",
    "                                pd.np.where(df.Issue.str.contains(\"illegal action\"),\"sue\",\n",
    "                                pd.np.where(df.Issue.str.contains(\"forbearance\"),\"forbearance\",\n",
    "                                pd.np.where(df.Issue.str.contains(\"wrong amount charged\"),\"charge\",\n",
    "                                pd.np.where(df.Issue.str.contains(\"check\"),\"check\",\n",
    "                                pd.np.where(df.Issue.str.contains(\"cash advance\"),\"cash advance\",\n",
    "                                pd.np.where(df.Issue.str.contains(\"exchange rate\"),\"exchange rate\",\n",
    "                                pd.np.where(df.Issue.str.contains(\"privacy\"),\"privacy\",\n",
    "                                pd.np.where(df.Issue.str.contains(\"charged\"),\"charge\",\n",
    "                                pd.np.where(df.Issue.str.contains(\"arbitration\"),\"arbitration\",\n",
    "                                pd.np.where(df.Issue.str.contains(\"add-on\"),\"add-on\",\n",
    "                                pd.np.where(df.Issue.str.contains(\"overdraft\"),\"overdraft\",\n",
    "                                pd.np.where(df.Issue.str.contains(\"property\"),\"property\",\"trial\"))))))))))))))))))))))))))))))))))))))))))))))))))))\n",
    "\n",
    "df[df[\"issue_filtered\"] == 'trial']"
   ]
  },
  {
   "cell_type": "code",
   "execution_count": 15,
   "metadata": {},
   "outputs": [
    {
     "data": {
      "text/plain": [
       "credit                      249962\n",
       "report                      240550\n",
       "debt                        180577\n",
       "loan                        171794\n",
       "payment                     134398\n",
       "account                     107610\n",
       "mortgage                     51331\n",
       "comms                        38554\n",
       "lender                       34356\n",
       "other                        33403\n",
       "fraud                        22914\n",
       "false statements             22906\n",
       "deposits and withdrawals     22851\n",
       "sue                          21095\n",
       "interest                     19623\n",
       "billing                      17755\n",
       "purchase                     17344\n",
       "funds                        16402\n",
       "contact                      13528\n",
       "card                          9679\n",
       "settlement                    8938\n",
       "advertising                   7470\n",
       "transaction                   5142\n",
       "fee                           4678\n",
       "customer service              4407\n",
       "money                         3852\n",
       "rewards                       2988\n",
       "payoff                        2315\n",
       "collection                    1001\n",
       "charge                         882\n",
       "disclosures                    777\n",
       "investigation                  763\n",
       "forbearance                    556\n",
       "application                    540\n",
       "privacy                        489\n",
       "bankruptcy                     448\n",
       "arbitration                    349\n",
       "add-on                         304\n",
       "cash advance                   294\n",
       "check                          294\n",
       "vehicle                        186\n",
       "exchange rate                   68\n",
       "overdraft                       26\n",
       "property                         8\n",
       "Name: issue_filtered, dtype: int64"
      ]
     },
     "execution_count": 15,
     "metadata": {},
     "output_type": "execute_result"
    }
   ],
   "source": [
    "df.issue_filtered.value_counts()"
   ]
  },
  {
   "cell_type": "markdown",
   "metadata": {},
   "source": [
    "### Inserting an addition column to count complaints"
   ]
  },
  {
   "cell_type": "code",
   "execution_count": 6,
   "metadata": {},
   "outputs": [],
   "source": [
    "count = []\n",
    "\n",
    "for data in df['Product']:\n",
    "    row = 1\n",
    "    count.append(row)\n",
    "    "
   ]
  },
  {
   "cell_type": "code",
   "execution_count": 7,
   "metadata": {},
   "outputs": [],
   "source": [
    "count = pd.DataFrame(count)\n",
    "count.shape\n",
    "count = count.rename(columns={0:'Count'})\n",
    "df = pd.concat([df.reset_index(drop=True),count], axis = 1)"
   ]
  },
  {
   "cell_type": "markdown",
   "metadata": {},
   "source": [
    "### Displays Top Products used by Consumers all-over the States"
   ]
  },
  {
   "cell_type": "code",
   "execution_count": 58,
   "metadata": {},
   "outputs": [
    {
     "data": {
      "text/html": [
       "<div>\n",
       "<style scoped>\n",
       "    .dataframe tbody tr th:only-of-type {\n",
       "        vertical-align: middle;\n",
       "    }\n",
       "\n",
       "    .dataframe tbody tr th {\n",
       "        vertical-align: top;\n",
       "    }\n",
       "\n",
       "    .dataframe thead th {\n",
       "        text-align: right;\n",
       "    }\n",
       "</style>\n",
       "<table border=\"1\" class=\"dataframe\">\n",
       "  <thead>\n",
       "    <tr style=\"text-align: right;\">\n",
       "      <th></th>\n",
       "      <th>Count</th>\n",
       "    </tr>\n",
       "    <tr>\n",
       "      <th>Product</th>\n",
       "      <th></th>\n",
       "    </tr>\n",
       "  </thead>\n",
       "  <tbody>\n",
       "    <tr>\n",
       "      <th>Credit reporting, credit repair services, or other personal consumer reports</th>\n",
       "      <td>323549</td>\n",
       "    </tr>\n",
       "    <tr>\n",
       "      <th>Mortgage</th>\n",
       "      <td>293396</td>\n",
       "    </tr>\n",
       "    <tr>\n",
       "      <th>Debt collection</th>\n",
       "      <td>275759</td>\n",
       "    </tr>\n",
       "    <tr>\n",
       "      <th>Credit reporting</th>\n",
       "      <td>140429</td>\n",
       "    </tr>\n",
       "  </tbody>\n",
       "</table>\n",
       "</div>"
      ],
      "text/plain": [
       "                                                     Count\n",
       "Product                                                   \n",
       "Credit reporting, credit repair services, or ot...  323549\n",
       "Mortgage                                            293396\n",
       "Debt collection                                     275759\n",
       "Credit reporting                                    140429"
      ]
     },
     "execution_count": 58,
     "metadata": {},
     "output_type": "execute_result"
    }
   ],
   "source": [
    "df_top_products = df.groupby('Product').sum().sort_values('Count', ascending = False).iloc[0:4,1:2]\n",
    "df_top_products"
   ]
  },
  {
   "cell_type": "code",
   "execution_count": 82,
   "metadata": {},
   "outputs": [
    {
     "data": {
      "text/plain": [
       "Text(0.5, 1.0, 'Top 4 Products')"
      ]
     },
     "execution_count": 82,
     "metadata": {},
     "output_type": "execute_result"
    },
    {
     "data": {
      "image/png": "[encoded data removed]",
      "text/plain": [
       "<Figure size 1440x720 with 1 Axes>"
      ]
     },
     "metadata": {
      "needs_background": "light"
     },
     "output_type": "display_data"
    }
   ],
   "source": [
    "df_a = df_top_products.iloc[0:,:0]\n",
    "df_list = ['Credit reporting, credit repair services, or other personal consumer reports', 'Mortgage', 'Debt collection\t', 'Credit reporting']\n",
    "df_axis = np.arange(len(df_a))\n",
    "\n",
    "plt.bar(df_axis, df_top_products['Count'])\n",
    "plt.xticks(df_axis, df_list)\n",
    "plt.rcParams['figure.figsize'] = [20,10]\n",
    "plt.xlabel('Products')\n",
    "plt.ylabel('Count of Customers')\n",
    "plt.title('Top 4 Products')"
   ]
  },
  {
   "cell_type": "markdown",
   "metadata": {},
   "source": [
    "### Displays Top 3 Companies that has gathered Complaints"
   ]
  },
  {
   "cell_type": "code",
   "execution_count": 76,
   "metadata": {},
   "outputs": [
    {
     "data": {
      "text/html": [
       "<div>\n",
       "<style scoped>\n",
       "    .dataframe tbody tr th:only-of-type {\n",
       "        vertical-align: middle;\n",
       "    }\n",
       "\n",
       "    .dataframe tbody tr th {\n",
       "        vertical-align: top;\n",
       "    }\n",
       "\n",
       "    .dataframe thead th {\n",
       "        text-align: right;\n",
       "    }\n",
       "</style>\n",
       "<table border=\"1\" class=\"dataframe\">\n",
       "  <thead>\n",
       "    <tr style=\"text-align: right;\">\n",
       "      <th></th>\n",
       "      <th>Count</th>\n",
       "    </tr>\n",
       "    <tr>\n",
       "      <th>Company</th>\n",
       "      <th></th>\n",
       "    </tr>\n",
       "  </thead>\n",
       "  <tbody>\n",
       "    <tr>\n",
       "      <th>EQUIFAX, INC.</th>\n",
       "      <td>145037</td>\n",
       "    </tr>\n",
       "    <tr>\n",
       "      <th>Experian Information Solutions Inc.</th>\n",
       "      <td>129683</td>\n",
       "    </tr>\n",
       "    <tr>\n",
       "      <th>TRANSUNION INTERMEDIATE HOLDINGS, INC.</th>\n",
       "      <td>124467</td>\n",
       "    </tr>\n",
       "  </tbody>\n",
       "</table>\n",
       "</div>"
      ],
      "text/plain": [
       "                                         Count\n",
       "Company                                       \n",
       "EQUIFAX, INC.                           145037\n",
       "Experian Information Solutions Inc.     129683\n",
       "TRANSUNION INTERMEDIATE HOLDINGS, INC.  124467"
      ]
     },
     "execution_count": 76,
     "metadata": {},
     "output_type": "execute_result"
    }
   ],
   "source": [
    "df_top3_company = df.groupby('Company').sum().sort_values('Count', ascending = False).iloc[0:3,1:2]\n",
    "\n",
    "df_top3_company.head()"
   ]
  },
  {
   "cell_type": "code",
   "execution_count": 80,
   "metadata": {},
   "outputs": [
    {
     "data": {
      "text/plain": [
       "Text(0.5, 1.0, 'Top 3 Companies by Complaints')"
      ]
     },
     "execution_count": 80,
     "metadata": {},
     "output_type": "execute_result"
    },
    {
     "data": {
      "image/png": "[encoded data removed]",
      "text/plain": [
       "<Figure size 1440x720 with 1 Axes>"
      ]
     },
     "metadata": {
      "needs_background": "light"
     },
     "output_type": "display_data"
    }
   ],
   "source": [
    "df_company = df_top3_company.iloc[0:,:0]\n",
    "df_company_list = ['EQUIFAX, INC.', 'Experian Information Solutions Inc.', 'TRANSUNION INTERMEDIATE HOLDINGS, INC.']\n",
    "df_axis_company = np.arange(len(df_company))\n",
    "\n",
    "plt.bar(df_axis_company, df_top3_company['Count'])\n",
    "\n",
    "plt.xticks(df_axis_company, df_company_list)\n",
    "plt.xlabel('Companies')\n",
    "plt.ylabel('Complaints')\n",
    "plt.title('Top 3 Companies by Complaints')"
   ]
  },
  {
   "cell_type": "markdown",
   "metadata": {},
   "source": [
    "### Displays Top Issues that arose through the Years"
   ]
  },
  {
   "cell_type": "code",
   "execution_count": 95,
   "metadata": {},
   "outputs": [
    {
     "data": {
      "text/plain": [
       "Text(0.5, 1.0, 'Top 6 Issues')"
      ]
     },
     "execution_count": 95,
     "metadata": {},
     "output_type": "execute_result"
    },
    {
     "data": {
      "image/png": "[encoded data removed]",
      "text/plain": [
       "<Figure size 1440x720 with 1 Axes>"
      ]
     },
     "metadata": {
      "needs_background": "light"
     },
     "output_type": "display_data"
    }
   ],
   "source": [
    "df_top6_issue = df.groupby('issue_filtered').sum().sort_values('Count', ascending = False).iloc[0:6,1:2]\n",
    "df_issue = df_top6_issue.iloc[0:,:0]\n",
    "df_issue_list = ['credit', 'report', 'debt', 'loan', 'payment', 'account']\n",
    "df_axis_issue = np.arange(len(df_issue))\n",
    "\n",
    "plt.bar(df_axis_issue, df_top6_issue['Count'])\n",
    "plt.xticks(df_axis_issue, df_issue_list)\n",
    "plt.xlabel('Issues')\n",
    "plt.ylabel('Count of Complaints')\n",
    "plt.title('Top 6 Issues')"
   ]
  },
  {
   "cell_type": "markdown",
   "metadata": {},
   "source": [
    "### Displays Total Complaints received in each Year"
   ]
  },
  {
   "cell_type": "code",
   "execution_count": 25,
   "metadata": {},
   "outputs": [
    {
     "data": {
      "image/png": "[encoded data removed]",
      "text/plain": [
       "<Figure size 720x576 with 1 Axes>"
      ]
     },
     "metadata": {
      "needs_background": "light"
     },
     "output_type": "display_data"
    }
   ],
   "source": [
    "df_years = df.groupby('year').sum().sort_values('Count', ascending = True).iloc[0:,1:2]\n",
    "df_yrs = df_years.iloc[0:,:0]\n",
    "df_years_list = ['2011', '2012', '2013', '2014', '2015', '2016', '2017', '2018', '2019']\n",
    "df_axis_years = np.arange(len(df_yrs))\n",
    "\n",
    "plt.plot(df_axis_years, df_years['Count'], marker = 'o')\n",
    "plt.xticks(df_axis_years, df_years_list)\n",
    "plt.xlabel('Years')\n",
    "plt.ylabel('Complaints')\n",
    "plt.title('Complaints per Year')\n",
    "plt.rcParams['figure.figsize'] = [10,8]"
   ]
  },
  {
   "cell_type": "markdown",
   "metadata": {},
   "source": [
    "### Displays Complaints by Months in each Year"
   ]
  },
  {
   "cell_type": "code",
   "execution_count": 34,
   "metadata": {},
   "outputs": [
    {
     "data": {
      "text/html": [
       "<div>\n",
       "<style scoped>\n",
       "    .dataframe tbody tr th:only-of-type {\n",
       "        vertical-align: middle;\n",
       "    }\n",
       "\n",
       "    .dataframe tbody tr th {\n",
       "        vertical-align: top;\n",
       "    }\n",
       "\n",
       "    .dataframe thead th {\n",
       "        text-align: right;\n",
       "    }\n",
       "</style>\n",
       "<table border=\"1\" class=\"dataframe\">\n",
       "  <thead>\n",
       "    <tr style=\"text-align: right;\">\n",
       "      <th></th>\n",
       "      <th>Count</th>\n",
       "    </tr>\n",
       "    <tr>\n",
       "      <th>month</th>\n",
       "      <th></th>\n",
       "    </tr>\n",
       "  </thead>\n",
       "  <tbody>\n",
       "    <tr>\n",
       "      <th>01</th>\n",
       "      <td>21003</td>\n",
       "    </tr>\n",
       "    <tr>\n",
       "      <th>02</th>\n",
       "      <td>18097</td>\n",
       "    </tr>\n",
       "    <tr>\n",
       "      <th>03</th>\n",
       "      <td>19754</td>\n",
       "    </tr>\n",
       "    <tr>\n",
       "      <th>04</th>\n",
       "      <td>18539</td>\n",
       "    </tr>\n",
       "    <tr>\n",
       "      <th>05</th>\n",
       "      <td>19291</td>\n",
       "    </tr>\n",
       "    <tr>\n",
       "      <th>06</th>\n",
       "      <td>18552</td>\n",
       "    </tr>\n",
       "    <tr>\n",
       "      <th>07</th>\n",
       "      <td>20426</td>\n",
       "    </tr>\n",
       "    <tr>\n",
       "      <th>08</th>\n",
       "      <td>21395</td>\n",
       "    </tr>\n",
       "    <tr>\n",
       "      <th>09</th>\n",
       "      <td>27344</td>\n",
       "    </tr>\n",
       "    <tr>\n",
       "      <th>10</th>\n",
       "      <td>20449</td>\n",
       "    </tr>\n",
       "    <tr>\n",
       "      <th>11</th>\n",
       "      <td>18986</td>\n",
       "    </tr>\n",
       "    <tr>\n",
       "      <th>12</th>\n",
       "      <td>19027</td>\n",
       "    </tr>\n",
       "  </tbody>\n",
       "</table>\n",
       "</div>"
      ],
      "text/plain": [
       "       Count\n",
       "month       \n",
       "01     21003\n",
       "02     18097\n",
       "03     19754\n",
       "04     18539\n",
       "05     19291\n",
       "06     18552\n",
       "07     20426\n",
       "08     21395\n",
       "09     27344\n",
       "10     20449\n",
       "11     18986\n",
       "12     19027"
      ]
     },
     "execution_count": 34,
     "metadata": {},
     "output_type": "execute_result"
    }
   ],
   "source": [
    "df_year2019 = df[df['year'] == '2019']\n",
    "df_year2018 = df[df['year'] == '2018']\n",
    "df_year2017 = df[df['year'] == '2017']\n",
    "\n",
    "df_months_2019 = df_year2019.groupby('month').sum().sort_values('month', ascending = True).iloc[0:,1:2]\n",
    "df_months_2018 = df_year2018.groupby('month').sum().sort_values('month', ascending = True).iloc[0:,1:2]\n",
    "df_months_2017 = df_year2017.groupby('month').sum().sort_values('month', ascending = True).iloc[0:,1:2]\n",
    "\n",
    "df_months_2017"
   ]
  },
  {
   "cell_type": "code",
   "execution_count": 290,
   "metadata": {},
   "outputs": [
    {
     "data": {
      "text/plain": [
       "<matplotlib.legend.Legend at 0x201167e6198>"
      ]
     },
     "execution_count": 290,
     "metadata": {},
     "output_type": "execute_result"
    },
    {
     "data": {
      "image/png": "[encoded data removed]",
      "text/plain": [
       "<Figure size 720x576 with 1 Axes>"
      ]
     },
     "metadata": {
      "needs_background": "light"
     },
     "output_type": "display_data"
    }
   ],
   "source": [
    "df_months_list = ['Jan', 'Feb', 'Mar', 'Apr', 'May', 'Jun', 'Jul', 'Aug', 'Sep', 'Oct', 'Nov', 'Dec']\n",
    "df_months_axis = np.arange(len(df_months_2019.iloc[0:,:0]))\n",
    "\n",
    "plt.plot(df_months_axis, df_months_2019['Count'], marker = 'o', label = '2019')\n",
    "plt.plot(df_months_axis, df_months_2018['Count'], marker = 'o', label = '2018')\n",
    "plt.plot(df_months_axis, df_months_2017['Count'], marker = 'o', label = '2017')\n",
    "\n",
    "plt.xticks(df_months_axis, df_months_list)\n",
    "plt.xlabel('Months')\n",
    "plt.ylabel('Complaints')\n",
    "plt.title('Complaints by Months in each Year')\n",
    "#plt.plot(df_months_axis, df_months_2019['Count'], df_months_axis, df_months_2018['Count'], df_months_axis, df_months_2017['Count'], marker = 'o', label= ['2019', '2018', '2017'])\n",
    "plt.legend()"
   ]
  },
  {
   "cell_type": "code",
   "execution_count": 50,
   "metadata": {},
   "outputs": [
    {
     "data": {
      "text/html": [
       "<div>\n",
       "<style scoped>\n",
       "    .dataframe tbody tr th:only-of-type {\n",
       "        vertical-align: middle;\n",
       "    }\n",
       "\n",
       "    .dataframe tbody tr th {\n",
       "        vertical-align: top;\n",
       "    }\n",
       "\n",
       "    .dataframe thead th {\n",
       "        text-align: right;\n",
       "    }\n",
       "</style>\n",
       "<table border=\"1\" class=\"dataframe\">\n",
       "  <thead>\n",
       "    <tr style=\"text-align: right;\">\n",
       "      <th></th>\n",
       "      <th>Count</th>\n",
       "    </tr>\n",
       "    <tr>\n",
       "      <th>issue_filtered</th>\n",
       "      <th></th>\n",
       "    </tr>\n",
       "  </thead>\n",
       "  <tbody>\n",
       "    <tr>\n",
       "      <th>report</th>\n",
       "      <td>102969</td>\n",
       "    </tr>\n",
       "    <tr>\n",
       "      <th>credit</th>\n",
       "      <td>38723</td>\n",
       "    </tr>\n",
       "    <tr>\n",
       "      <th>debt</th>\n",
       "      <td>32006</td>\n",
       "    </tr>\n",
       "    <tr>\n",
       "      <th>account</th>\n",
       "      <td>22860</td>\n",
       "    </tr>\n",
       "    <tr>\n",
       "      <th>payment</th>\n",
       "      <td>14970</td>\n",
       "    </tr>\n",
       "    <tr>\n",
       "      <th>mortgage</th>\n",
       "      <td>10734</td>\n",
       "    </tr>\n",
       "    <tr>\n",
       "      <th>loan</th>\n",
       "      <td>8084</td>\n",
       "    </tr>\n",
       "    <tr>\n",
       "      <th>purchase</th>\n",
       "      <td>7126</td>\n",
       "    </tr>\n",
       "    <tr>\n",
       "      <th>other</th>\n",
       "      <td>5266</td>\n",
       "    </tr>\n",
       "    <tr>\n",
       "      <th>lender</th>\n",
       "      <td>4960</td>\n",
       "    </tr>\n",
       "    <tr>\n",
       "      <th>comms</th>\n",
       "      <td>4830</td>\n",
       "    </tr>\n",
       "    <tr>\n",
       "      <th>fraud</th>\n",
       "      <td>4794</td>\n",
       "    </tr>\n",
       "    <tr>\n",
       "      <th>sue</th>\n",
       "      <td>4311</td>\n",
       "    </tr>\n",
       "    <tr>\n",
       "      <th>false statements</th>\n",
       "      <td>4006</td>\n",
       "    </tr>\n",
       "    <tr>\n",
       "      <th>interest</th>\n",
       "      <td>4004</td>\n",
       "    </tr>\n",
       "    <tr>\n",
       "      <th>advertising</th>\n",
       "      <td>1699</td>\n",
       "    </tr>\n",
       "    <tr>\n",
       "      <th>card</th>\n",
       "      <td>1503</td>\n",
       "    </tr>\n",
       "    <tr>\n",
       "      <th>funds</th>\n",
       "      <td>1451</td>\n",
       "    </tr>\n",
       "    <tr>\n",
       "      <th>contact</th>\n",
       "      <td>1216</td>\n",
       "    </tr>\n",
       "    <tr>\n",
       "      <th>money</th>\n",
       "      <td>602</td>\n",
       "    </tr>\n",
       "    <tr>\n",
       "      <th>investigation</th>\n",
       "      <td>303</td>\n",
       "    </tr>\n",
       "    <tr>\n",
       "      <th>customer service</th>\n",
       "      <td>243</td>\n",
       "    </tr>\n",
       "    <tr>\n",
       "      <th>disclosures</th>\n",
       "      <td>239</td>\n",
       "    </tr>\n",
       "    <tr>\n",
       "      <th>add-on</th>\n",
       "      <td>122</td>\n",
       "    </tr>\n",
       "    <tr>\n",
       "      <th>charge</th>\n",
       "      <td>95</td>\n",
       "    </tr>\n",
       "    <tr>\n",
       "      <th>vehicle</th>\n",
       "      <td>63</td>\n",
       "    </tr>\n",
       "    <tr>\n",
       "      <th>check</th>\n",
       "      <td>37</td>\n",
       "    </tr>\n",
       "    <tr>\n",
       "      <th>fee</th>\n",
       "      <td>37</td>\n",
       "    </tr>\n",
       "    <tr>\n",
       "      <th>cash advance</th>\n",
       "      <td>18</td>\n",
       "    </tr>\n",
       "    <tr>\n",
       "      <th>overdraft</th>\n",
       "      <td>10</td>\n",
       "    </tr>\n",
       "    <tr>\n",
       "      <th>exchange rate</th>\n",
       "      <td>10</td>\n",
       "    </tr>\n",
       "    <tr>\n",
       "      <th>rewards</th>\n",
       "      <td>9</td>\n",
       "    </tr>\n",
       "  </tbody>\n",
       "</table>\n",
       "</div>"
      ],
      "text/plain": [
       "                   Count\n",
       "issue_filtered          \n",
       "report            102969\n",
       "credit             38723\n",
       "debt               32006\n",
       "account            22860\n",
       "payment            14970\n",
       "mortgage           10734\n",
       "loan                8084\n",
       "purchase            7126\n",
       "other               5266\n",
       "lender              4960\n",
       "comms               4830\n",
       "fraud               4794\n",
       "sue                 4311\n",
       "false statements    4006\n",
       "interest            4004\n",
       "advertising         1699\n",
       "card                1503\n",
       "funds               1451\n",
       "contact             1216\n",
       "money                602\n",
       "investigation        303\n",
       "customer service     243\n",
       "disclosures          239\n",
       "add-on               122\n",
       "charge                95\n",
       "vehicle               63\n",
       "check                 37\n",
       "fee                   37\n",
       "cash advance          18\n",
       "overdraft             10\n",
       "exchange rate         10\n",
       "rewards                9"
      ]
     },
     "execution_count": 50,
     "metadata": {},
     "output_type": "execute_result"
    }
   ],
   "source": [
    "df_year2019.groupby('issue_filtered').sum().sort_values('Count', ascending = False).iloc[0:,1:2]"
   ]
  },
  {
   "cell_type": "markdown",
   "metadata": {},
   "source": [
    "### Displays Top Issues per Month in Recent Years (2017-2019)"
   ]
  },
  {
   "cell_type": "code",
   "execution_count": 293,
   "metadata": {},
   "outputs": [
    {
     "data": {
      "text/html": [
       "<div>\n",
       "<style scoped>\n",
       "    .dataframe tbody tr th:only-of-type {\n",
       "        vertical-align: middle;\n",
       "    }\n",
       "\n",
       "    .dataframe tbody tr th {\n",
       "        vertical-align: top;\n",
       "    }\n",
       "\n",
       "    .dataframe thead th {\n",
       "        text-align: right;\n",
       "    }\n",
       "</style>\n",
       "<table border=\"1\" class=\"dataframe\">\n",
       "  <thead>\n",
       "    <tr style=\"text-align: right;\">\n",
       "      <th></th>\n",
       "      <th>Year</th>\n",
       "      <th>Month</th>\n",
       "      <th>Top Issue</th>\n",
       "      <th>Total Complaints</th>\n",
       "    </tr>\n",
       "  </thead>\n",
       "  <tbody>\n",
       "    <tr>\n",
       "      <th>12</th>\n",
       "      <td>2017</td>\n",
       "      <td>1</td>\n",
       "      <td>credit</td>\n",
       "      <td>4300</td>\n",
       "    </tr>\n",
       "    <tr>\n",
       "      <th>47</th>\n",
       "      <td>2017</td>\n",
       "      <td>2</td>\n",
       "      <td>credit</td>\n",
       "      <td>4485</td>\n",
       "    </tr>\n",
       "    <tr>\n",
       "      <th>82</th>\n",
       "      <td>2017</td>\n",
       "      <td>3</td>\n",
       "      <td>credit</td>\n",
       "      <td>5053</td>\n",
       "    </tr>\n",
       "    <tr>\n",
       "      <th>118</th>\n",
       "      <td>2017</td>\n",
       "      <td>4</td>\n",
       "      <td>credit</td>\n",
       "      <td>4567</td>\n",
       "    </tr>\n",
       "    <tr>\n",
       "      <th>174</th>\n",
       "      <td>2017</td>\n",
       "      <td>5</td>\n",
       "      <td>report</td>\n",
       "      <td>5144</td>\n",
       "    </tr>\n",
       "    <tr>\n",
       "      <th>205</th>\n",
       "      <td>2017</td>\n",
       "      <td>6</td>\n",
       "      <td>report</td>\n",
       "      <td>5124</td>\n",
       "    </tr>\n",
       "    <tr>\n",
       "      <th>238</th>\n",
       "      <td>2017</td>\n",
       "      <td>7</td>\n",
       "      <td>report</td>\n",
       "      <td>6023</td>\n",
       "    </tr>\n",
       "    <tr>\n",
       "      <th>269</th>\n",
       "      <td>2017</td>\n",
       "      <td>8</td>\n",
       "      <td>report</td>\n",
       "      <td>6337</td>\n",
       "    </tr>\n",
       "    <tr>\n",
       "      <th>301</th>\n",
       "      <td>2017</td>\n",
       "      <td>9</td>\n",
       "      <td>report</td>\n",
       "      <td>11673</td>\n",
       "    </tr>\n",
       "    <tr>\n",
       "      <th>333</th>\n",
       "      <td>2017</td>\n",
       "      <td>10</td>\n",
       "      <td>report</td>\n",
       "      <td>6224</td>\n",
       "    </tr>\n",
       "    <tr>\n",
       "      <th>363</th>\n",
       "      <td>2017</td>\n",
       "      <td>11</td>\n",
       "      <td>report</td>\n",
       "      <td>5828</td>\n",
       "    </tr>\n",
       "    <tr>\n",
       "      <th>393</th>\n",
       "      <td>2017</td>\n",
       "      <td>12</td>\n",
       "      <td>report</td>\n",
       "      <td>5892</td>\n",
       "    </tr>\n",
       "    <tr>\n",
       "      <th>424</th>\n",
       "      <td>2018</td>\n",
       "      <td>1</td>\n",
       "      <td>report</td>\n",
       "      <td>7347</td>\n",
       "    </tr>\n",
       "    <tr>\n",
       "      <th>454</th>\n",
       "      <td>2018</td>\n",
       "      <td>2</td>\n",
       "      <td>report</td>\n",
       "      <td>7284</td>\n",
       "    </tr>\n",
       "    <tr>\n",
       "      <th>484</th>\n",
       "      <td>2018</td>\n",
       "      <td>3</td>\n",
       "      <td>report</td>\n",
       "      <td>7501</td>\n",
       "    </tr>\n",
       "    <tr>\n",
       "      <th>513</th>\n",
       "      <td>2018</td>\n",
       "      <td>4</td>\n",
       "      <td>report</td>\n",
       "      <td>7769</td>\n",
       "    </tr>\n",
       "    <tr>\n",
       "      <th>543</th>\n",
       "      <td>2018</td>\n",
       "      <td>5</td>\n",
       "      <td>report</td>\n",
       "      <td>7046</td>\n",
       "    </tr>\n",
       "    <tr>\n",
       "      <th>575</th>\n",
       "      <td>2018</td>\n",
       "      <td>6</td>\n",
       "      <td>report</td>\n",
       "      <td>6253</td>\n",
       "    </tr>\n",
       "    <tr>\n",
       "      <th>606</th>\n",
       "      <td>2018</td>\n",
       "      <td>7</td>\n",
       "      <td>report</td>\n",
       "      <td>6864</td>\n",
       "    </tr>\n",
       "    <tr>\n",
       "      <th>635</th>\n",
       "      <td>2018</td>\n",
       "      <td>8</td>\n",
       "      <td>report</td>\n",
       "      <td>7224</td>\n",
       "    </tr>\n",
       "    <tr>\n",
       "      <th>665</th>\n",
       "      <td>2018</td>\n",
       "      <td>9</td>\n",
       "      <td>report</td>\n",
       "      <td>6339</td>\n",
       "    </tr>\n",
       "    <tr>\n",
       "      <th>697</th>\n",
       "      <td>2018</td>\n",
       "      <td>10</td>\n",
       "      <td>report</td>\n",
       "      <td>7475</td>\n",
       "    </tr>\n",
       "    <tr>\n",
       "      <th>726</th>\n",
       "      <td>2018</td>\n",
       "      <td>11</td>\n",
       "      <td>report</td>\n",
       "      <td>6783</td>\n",
       "    </tr>\n",
       "    <tr>\n",
       "      <th>756</th>\n",
       "      <td>2018</td>\n",
       "      <td>12</td>\n",
       "      <td>report</td>\n",
       "      <td>6020</td>\n",
       "    </tr>\n",
       "    <tr>\n",
       "      <th>786</th>\n",
       "      <td>2019</td>\n",
       "      <td>1</td>\n",
       "      <td>report</td>\n",
       "      <td>6466</td>\n",
       "    </tr>\n",
       "    <tr>\n",
       "      <th>817</th>\n",
       "      <td>2019</td>\n",
       "      <td>2</td>\n",
       "      <td>report</td>\n",
       "      <td>6736</td>\n",
       "    </tr>\n",
       "    <tr>\n",
       "      <th>847</th>\n",
       "      <td>2019</td>\n",
       "      <td>3</td>\n",
       "      <td>report</td>\n",
       "      <td>8085</td>\n",
       "    </tr>\n",
       "    <tr>\n",
       "      <th>879</th>\n",
       "      <td>2019</td>\n",
       "      <td>4</td>\n",
       "      <td>report</td>\n",
       "      <td>7986</td>\n",
       "    </tr>\n",
       "    <tr>\n",
       "      <th>910</th>\n",
       "      <td>2019</td>\n",
       "      <td>5</td>\n",
       "      <td>report</td>\n",
       "      <td>8893</td>\n",
       "    </tr>\n",
       "    <tr>\n",
       "      <th>940</th>\n",
       "      <td>2019</td>\n",
       "      <td>6</td>\n",
       "      <td>report</td>\n",
       "      <td>8567</td>\n",
       "    </tr>\n",
       "    <tr>\n",
       "      <th>968</th>\n",
       "      <td>2019</td>\n",
       "      <td>7</td>\n",
       "      <td>report</td>\n",
       "      <td>9582</td>\n",
       "    </tr>\n",
       "    <tr>\n",
       "      <th>1000</th>\n",
       "      <td>2019</td>\n",
       "      <td>8</td>\n",
       "      <td>report</td>\n",
       "      <td>10262</td>\n",
       "    </tr>\n",
       "    <tr>\n",
       "      <th>1030</th>\n",
       "      <td>2019</td>\n",
       "      <td>9</td>\n",
       "      <td>report</td>\n",
       "      <td>9345</td>\n",
       "    </tr>\n",
       "    <tr>\n",
       "      <th>1060</th>\n",
       "      <td>2019</td>\n",
       "      <td>10</td>\n",
       "      <td>report</td>\n",
       "      <td>9807</td>\n",
       "    </tr>\n",
       "    <tr>\n",
       "      <th>1090</th>\n",
       "      <td>2019</td>\n",
       "      <td>11</td>\n",
       "      <td>report</td>\n",
       "      <td>8968</td>\n",
       "    </tr>\n",
       "    <tr>\n",
       "      <th>1122</th>\n",
       "      <td>2019</td>\n",
       "      <td>12</td>\n",
       "      <td>report</td>\n",
       "      <td>8272</td>\n",
       "    </tr>\n",
       "  </tbody>\n",
       "</table>\n",
       "</div>"
      ],
      "text/plain": [
       "      Year  Month Top Issue  Total Complaints\n",
       "12    2017      1    credit              4300\n",
       "47    2017      2    credit              4485\n",
       "82    2017      3    credit              5053\n",
       "118   2017      4    credit              4567\n",
       "174   2017      5    report              5144\n",
       "205   2017      6    report              5124\n",
       "238   2017      7    report              6023\n",
       "269   2017      8    report              6337\n",
       "301   2017      9    report             11673\n",
       "333   2017     10    report              6224\n",
       "363   2017     11    report              5828\n",
       "393   2017     12    report              5892\n",
       "424   2018      1    report              7347\n",
       "454   2018      2    report              7284\n",
       "484   2018      3    report              7501\n",
       "513   2018      4    report              7769\n",
       "543   2018      5    report              7046\n",
       "575   2018      6    report              6253\n",
       "606   2018      7    report              6864\n",
       "635   2018      8    report              7224\n",
       "665   2018      9    report              6339\n",
       "697   2018     10    report              7475\n",
       "726   2018     11    report              6783\n",
       "756   2018     12    report              6020\n",
       "786   2019      1    report              6466\n",
       "817   2019      2    report              6736\n",
       "847   2019      3    report              8085\n",
       "879   2019      4    report              7986\n",
       "910   2019      5    report              8893\n",
       "940   2019      6    report              8567\n",
       "968   2019      7    report              9582\n",
       "1000  2019      8    report             10262\n",
       "1030  2019      9    report              9345\n",
       "1060  2019     10    report              9807\n",
       "1090  2019     11    report              8968\n",
       "1122  2019     12    report              8272"
      ]
     },
     "execution_count": 293,
     "metadata": {},
     "output_type": "execute_result"
    }
   ],
   "source": [
    "df_recent_years = df[(df['year'] >= 2017) & (df['year'] <= 2019)]\n",
    "\n",
    "df_recent_top = df_recent_years.groupby(['year', 'month', 'issue_filtered'])['Count'].count().reset_index()\n",
    "df_recent_top = df_recent_top.sort_values(['year', 'month', 'Count'], ascending=[True, True, False])\n",
    "df_recent_top = df_recent_top.drop_duplicates(subset=['year', 'month'])\n",
    "\n",
    "df_recent_top.columns = ['Year', 'Month', 'Top Issue', 'Total Complaints']\n",
    "\n",
    "df_recent_top"
   ]
  },
  {
   "cell_type": "code",
   "execution_count": 114,
   "metadata": {},
   "outputs": [
    {
     "data": {
      "text/html": [
       "<div>\n",
       "<style scoped>\n",
       "    .dataframe tbody tr th:only-of-type {\n",
       "        vertical-align: middle;\n",
       "    }\n",
       "\n",
       "    .dataframe tbody tr th {\n",
       "        vertical-align: top;\n",
       "    }\n",
       "\n",
       "    .dataframe thead th {\n",
       "        text-align: right;\n",
       "    }\n",
       "</style>\n",
       "<table border=\"1\" class=\"dataframe\">\n",
       "  <thead>\n",
       "    <tr style=\"text-align: right;\">\n",
       "      <th></th>\n",
       "      <th>Year</th>\n",
       "      <th>Month</th>\n",
       "      <th>Top Issue</th>\n",
       "      <th>Complaints</th>\n",
       "    </tr>\n",
       "  </thead>\n",
       "  <tbody>\n",
       "    <tr>\n",
       "      <th>12</th>\n",
       "      <td>2017</td>\n",
       "      <td>1</td>\n",
       "      <td>credit</td>\n",
       "      <td>4300</td>\n",
       "    </tr>\n",
       "    <tr>\n",
       "      <th>47</th>\n",
       "      <td>2017</td>\n",
       "      <td>2</td>\n",
       "      <td>credit</td>\n",
       "      <td>4485</td>\n",
       "    </tr>\n",
       "    <tr>\n",
       "      <th>82</th>\n",
       "      <td>2017</td>\n",
       "      <td>3</td>\n",
       "      <td>credit</td>\n",
       "      <td>5053</td>\n",
       "    </tr>\n",
       "    <tr>\n",
       "      <th>118</th>\n",
       "      <td>2017</td>\n",
       "      <td>4</td>\n",
       "      <td>credit</td>\n",
       "      <td>4567</td>\n",
       "    </tr>\n",
       "    <tr>\n",
       "      <th>174</th>\n",
       "      <td>2017</td>\n",
       "      <td>5</td>\n",
       "      <td>report</td>\n",
       "      <td>5144</td>\n",
       "    </tr>\n",
       "    <tr>\n",
       "      <th>205</th>\n",
       "      <td>2017</td>\n",
       "      <td>6</td>\n",
       "      <td>report</td>\n",
       "      <td>5124</td>\n",
       "    </tr>\n",
       "    <tr>\n",
       "      <th>238</th>\n",
       "      <td>2017</td>\n",
       "      <td>7</td>\n",
       "      <td>report</td>\n",
       "      <td>6023</td>\n",
       "    </tr>\n",
       "    <tr>\n",
       "      <th>269</th>\n",
       "      <td>2017</td>\n",
       "      <td>8</td>\n",
       "      <td>report</td>\n",
       "      <td>6337</td>\n",
       "    </tr>\n",
       "    <tr>\n",
       "      <th>301</th>\n",
       "      <td>2017</td>\n",
       "      <td>9</td>\n",
       "      <td>report</td>\n",
       "      <td>11673</td>\n",
       "    </tr>\n",
       "    <tr>\n",
       "      <th>333</th>\n",
       "      <td>2017</td>\n",
       "      <td>10</td>\n",
       "      <td>report</td>\n",
       "      <td>6224</td>\n",
       "    </tr>\n",
       "    <tr>\n",
       "      <th>363</th>\n",
       "      <td>2017</td>\n",
       "      <td>11</td>\n",
       "      <td>report</td>\n",
       "      <td>5828</td>\n",
       "    </tr>\n",
       "    <tr>\n",
       "      <th>393</th>\n",
       "      <td>2017</td>\n",
       "      <td>12</td>\n",
       "      <td>report</td>\n",
       "      <td>5892</td>\n",
       "    </tr>\n",
       "  </tbody>\n",
       "</table>\n",
       "</div>"
      ],
      "text/plain": [
       "     Year  Month Top Issue  Complaints\n",
       "12   2017      1    credit        4300\n",
       "47   2017      2    credit        4485\n",
       "82   2017      3    credit        5053\n",
       "118  2017      4    credit        4567\n",
       "174  2017      5    report        5144\n",
       "205  2017      6    report        5124\n",
       "238  2017      7    report        6023\n",
       "269  2017      8    report        6337\n",
       "301  2017      9    report       11673\n",
       "333  2017     10    report        6224\n",
       "363  2017     11    report        5828\n",
       "393  2017     12    report        5892"
      ]
     },
     "execution_count": 114,
     "metadata": {},
     "output_type": "execute_result"
    }
   ],
   "source": [
    "df_2017_months = df_recent_top.iloc[0:12,0:]\n",
    "df_2017_months"
   ]
  },
  {
   "cell_type": "code",
   "execution_count": 115,
   "metadata": {},
   "outputs": [
    {
     "data": {
      "text/html": [
       "<div>\n",
       "<style scoped>\n",
       "    .dataframe tbody tr th:only-of-type {\n",
       "        vertical-align: middle;\n",
       "    }\n",
       "\n",
       "    .dataframe tbody tr th {\n",
       "        vertical-align: top;\n",
       "    }\n",
       "\n",
       "    .dataframe thead th {\n",
       "        text-align: right;\n",
       "    }\n",
       "</style>\n",
       "<table border=\"1\" class=\"dataframe\">\n",
       "  <thead>\n",
       "    <tr style=\"text-align: right;\">\n",
       "      <th></th>\n",
       "      <th>Year</th>\n",
       "      <th>Month</th>\n",
       "      <th>Top Issue</th>\n",
       "      <th>Complaints</th>\n",
       "    </tr>\n",
       "  </thead>\n",
       "  <tbody>\n",
       "    <tr>\n",
       "      <th>424</th>\n",
       "      <td>2018</td>\n",
       "      <td>1</td>\n",
       "      <td>report</td>\n",
       "      <td>7347</td>\n",
       "    </tr>\n",
       "    <tr>\n",
       "      <th>454</th>\n",
       "      <td>2018</td>\n",
       "      <td>2</td>\n",
       "      <td>report</td>\n",
       "      <td>7284</td>\n",
       "    </tr>\n",
       "    <tr>\n",
       "      <th>484</th>\n",
       "      <td>2018</td>\n",
       "      <td>3</td>\n",
       "      <td>report</td>\n",
       "      <td>7501</td>\n",
       "    </tr>\n",
       "    <tr>\n",
       "      <th>513</th>\n",
       "      <td>2018</td>\n",
       "      <td>4</td>\n",
       "      <td>report</td>\n",
       "      <td>7769</td>\n",
       "    </tr>\n",
       "    <tr>\n",
       "      <th>543</th>\n",
       "      <td>2018</td>\n",
       "      <td>5</td>\n",
       "      <td>report</td>\n",
       "      <td>7046</td>\n",
       "    </tr>\n",
       "    <tr>\n",
       "      <th>575</th>\n",
       "      <td>2018</td>\n",
       "      <td>6</td>\n",
       "      <td>report</td>\n",
       "      <td>6253</td>\n",
       "    </tr>\n",
       "    <tr>\n",
       "      <th>606</th>\n",
       "      <td>2018</td>\n",
       "      <td>7</td>\n",
       "      <td>report</td>\n",
       "      <td>6864</td>\n",
       "    </tr>\n",
       "    <tr>\n",
       "      <th>635</th>\n",
       "      <td>2018</td>\n",
       "      <td>8</td>\n",
       "      <td>report</td>\n",
       "      <td>7224</td>\n",
       "    </tr>\n",
       "    <tr>\n",
       "      <th>665</th>\n",
       "      <td>2018</td>\n",
       "      <td>9</td>\n",
       "      <td>report</td>\n",
       "      <td>6339</td>\n",
       "    </tr>\n",
       "    <tr>\n",
       "      <th>697</th>\n",
       "      <td>2018</td>\n",
       "      <td>10</td>\n",
       "      <td>report</td>\n",
       "      <td>7475</td>\n",
       "    </tr>\n",
       "    <tr>\n",
       "      <th>726</th>\n",
       "      <td>2018</td>\n",
       "      <td>11</td>\n",
       "      <td>report</td>\n",
       "      <td>6783</td>\n",
       "    </tr>\n",
       "    <tr>\n",
       "      <th>756</th>\n",
       "      <td>2018</td>\n",
       "      <td>12</td>\n",
       "      <td>report</td>\n",
       "      <td>6020</td>\n",
       "    </tr>\n",
       "  </tbody>\n",
       "</table>\n",
       "</div>"
      ],
      "text/plain": [
       "     Year  Month Top Issue  Complaints\n",
       "424  2018      1    report        7347\n",
       "454  2018      2    report        7284\n",
       "484  2018      3    report        7501\n",
       "513  2018      4    report        7769\n",
       "543  2018      5    report        7046\n",
       "575  2018      6    report        6253\n",
       "606  2018      7    report        6864\n",
       "635  2018      8    report        7224\n",
       "665  2018      9    report        6339\n",
       "697  2018     10    report        7475\n",
       "726  2018     11    report        6783\n",
       "756  2018     12    report        6020"
      ]
     },
     "execution_count": 115,
     "metadata": {},
     "output_type": "execute_result"
    }
   ],
   "source": [
    "df_2018_months = df_recent_top.iloc[12:24,0:]\n",
    "df_2018_months"
   ]
  },
  {
   "cell_type": "code",
   "execution_count": 116,
   "metadata": {},
   "outputs": [
    {
     "data": {
      "text/html": [
       "<div>\n",
       "<style scoped>\n",
       "    .dataframe tbody tr th:only-of-type {\n",
       "        vertical-align: middle;\n",
       "    }\n",
       "\n",
       "    .dataframe tbody tr th {\n",
       "        vertical-align: top;\n",
       "    }\n",
       "\n",
       "    .dataframe thead th {\n",
       "        text-align: right;\n",
       "    }\n",
       "</style>\n",
       "<table border=\"1\" class=\"dataframe\">\n",
       "  <thead>\n",
       "    <tr style=\"text-align: right;\">\n",
       "      <th></th>\n",
       "      <th>Year</th>\n",
       "      <th>Month</th>\n",
       "      <th>Top Issue</th>\n",
       "      <th>Complaints</th>\n",
       "    </tr>\n",
       "  </thead>\n",
       "  <tbody>\n",
       "    <tr>\n",
       "      <th>786</th>\n",
       "      <td>2019</td>\n",
       "      <td>1</td>\n",
       "      <td>report</td>\n",
       "      <td>6466</td>\n",
       "    </tr>\n",
       "    <tr>\n",
       "      <th>817</th>\n",
       "      <td>2019</td>\n",
       "      <td>2</td>\n",
       "      <td>report</td>\n",
       "      <td>6736</td>\n",
       "    </tr>\n",
       "    <tr>\n",
       "      <th>847</th>\n",
       "      <td>2019</td>\n",
       "      <td>3</td>\n",
       "      <td>report</td>\n",
       "      <td>8085</td>\n",
       "    </tr>\n",
       "    <tr>\n",
       "      <th>879</th>\n",
       "      <td>2019</td>\n",
       "      <td>4</td>\n",
       "      <td>report</td>\n",
       "      <td>7986</td>\n",
       "    </tr>\n",
       "    <tr>\n",
       "      <th>910</th>\n",
       "      <td>2019</td>\n",
       "      <td>5</td>\n",
       "      <td>report</td>\n",
       "      <td>8893</td>\n",
       "    </tr>\n",
       "    <tr>\n",
       "      <th>940</th>\n",
       "      <td>2019</td>\n",
       "      <td>6</td>\n",
       "      <td>report</td>\n",
       "      <td>8567</td>\n",
       "    </tr>\n",
       "    <tr>\n",
       "      <th>968</th>\n",
       "      <td>2019</td>\n",
       "      <td>7</td>\n",
       "      <td>report</td>\n",
       "      <td>9582</td>\n",
       "    </tr>\n",
       "    <tr>\n",
       "      <th>1000</th>\n",
       "      <td>2019</td>\n",
       "      <td>8</td>\n",
       "      <td>report</td>\n",
       "      <td>10262</td>\n",
       "    </tr>\n",
       "    <tr>\n",
       "      <th>1030</th>\n",
       "      <td>2019</td>\n",
       "      <td>9</td>\n",
       "      <td>report</td>\n",
       "      <td>9345</td>\n",
       "    </tr>\n",
       "    <tr>\n",
       "      <th>1060</th>\n",
       "      <td>2019</td>\n",
       "      <td>10</td>\n",
       "      <td>report</td>\n",
       "      <td>9807</td>\n",
       "    </tr>\n",
       "    <tr>\n",
       "      <th>1090</th>\n",
       "      <td>2019</td>\n",
       "      <td>11</td>\n",
       "      <td>report</td>\n",
       "      <td>8968</td>\n",
       "    </tr>\n",
       "    <tr>\n",
       "      <th>1122</th>\n",
       "      <td>2019</td>\n",
       "      <td>12</td>\n",
       "      <td>report</td>\n",
       "      <td>8272</td>\n",
       "    </tr>\n",
       "  </tbody>\n",
       "</table>\n",
       "</div>"
      ],
      "text/plain": [
       "      Year  Month Top Issue  Complaints\n",
       "786   2019      1    report        6466\n",
       "817   2019      2    report        6736\n",
       "847   2019      3    report        8085\n",
       "879   2019      4    report        7986\n",
       "910   2019      5    report        8893\n",
       "940   2019      6    report        8567\n",
       "968   2019      7    report        9582\n",
       "1000  2019      8    report       10262\n",
       "1030  2019      9    report        9345\n",
       "1060  2019     10    report        9807\n",
       "1090  2019     11    report        8968\n",
       "1122  2019     12    report        8272"
      ]
     },
     "execution_count": 116,
     "metadata": {},
     "output_type": "execute_result"
    }
   ],
   "source": [
    "df_2019_months = df_recent_top.iloc[24:,0:]\n",
    "df_2019_months"
   ]
  },
  {
   "cell_type": "markdown",
   "metadata": {},
   "source": [
    "### Top States that has over 100 K Complainants"
   ]
  },
  {
   "cell_type": "code",
   "execution_count": 129,
   "metadata": {},
   "outputs": [
    {
     "data": {
      "text/plain": [
       "Text(0.5, 1.0, 'Top States that has over 100K Complainants')"
      ]
     },
     "execution_count": 129,
     "metadata": {},
     "output_type": "execute_result"
    },
    {
     "data": {
      "image/png": "[encoded data removed]",
      "text/plain": [
       "<Figure size 720x576 with 1 Axes>"
      ]
     },
     "metadata": {
      "needs_background": "light"
     },
     "output_type": "display_data"
    }
   ],
   "source": [
    "df_states = df.groupby('State').sum().sort_values('Count', ascending = False).iloc[0:4,4:5]\n",
    "df_states_list = ['CA', 'FL', 'TX', 'NY']\n",
    "df_axis_states = np.arange(len(df_states.iloc[0:,:0]))\n",
    "\n",
    "plt.bar(df_axis_states, df_states['Count'])\n",
    "\n",
    "plt.xticks(df_axis_states, df_states_list)\n",
    "plt.xlabel('States')\n",
    "plt.ylabel('Complainants')\n",
    "plt.title('Top States that has over 100K Complainants')"
   ]
  },
  {
   "cell_type": "markdown",
   "metadata": {},
   "source": [
    "## Displays Top 3 Issues per Year"
   ]
  },
  {
   "cell_type": "code",
   "execution_count": 182,
   "metadata": {},
   "outputs": [],
   "source": [
    "df_year2011_top3 = df[df['year'] == 2011].groupby('issue_filtered').sum().sort_values('Count', ascending = False).iloc[0:3,:]\n",
    "df_year2012_top3 = df[df['year'] == 2012].groupby('issue_filtered').sum().sort_values('Count', ascending = False).iloc[0:3,:]\n",
    "df_year2013_top3 = df[df['year'] == 2013].groupby('issue_filtered').sum().sort_values('Count', ascending = False).iloc[0:3,:]\n",
    "df_year2014_top3 = df[df['year'] == 2014].groupby('issue_filtered').sum().sort_values('Count', ascending = False).iloc[0:3,:]\n",
    "df_year2015_top3 = df[df['year'] == 2015].groupby('issue_filtered').sum().sort_values('Count', ascending = False).iloc[0:3,:]\n",
    "df_year2016_top3 = df[df['year'] == 2016].groupby('issue_filtered').sum().sort_values('Count', ascending = False).iloc[0:3,:]\n",
    "df_year2017_top3 = df[df['year'] == 2017].groupby('issue_filtered').sum().sort_values('Count', ascending = False).iloc[0:3,:]\n",
    "df_year2018_top3 = df[df['year'] == 2018].groupby('issue_filtered').sum().sort_values('Count', ascending = False).iloc[0:3,:]\n",
    "df_year2019_top3 = df[df['year'] == 2016].groupby('issue_filtered').sum().sort_values('Count', ascending = False).iloc[0:3,:]"
   ]
  },
  {
   "cell_type": "code",
   "execution_count": 174,
   "metadata": {},
   "outputs": [
    {
     "data": {
      "text/plain": [
       "Text(0.5, 1.0, 'Top 3 Complaints in the Year 2011')"
      ]
     },
     "execution_count": 174,
     "metadata": {},
     "output_type": "execute_result"
    },
    {
     "data": {
      "image/png": "[encoded data removed]",
      "text/plain": [
       "<Figure size 720x576 with 1 Axes>"
      ]
     },
     "metadata": {
      "needs_background": "light"
     },
     "output_type": "display_data"
    }
   ],
   "source": [
    "df_year2011_top3\n",
    "df_2011_top3 = ['loan', 'payment', 'credit']\n",
    "df_axis_2011 = np.arange(len(df_year2011_top3.iloc[0:,:0]))\n",
    "\n",
    "plt.bar(df_axis_2011, df_year2011_top3['Count'])\n",
    "\n",
    "plt.xticks(df_axis_2011, df_2011_top3)\n",
    "plt.xlabel('Issues')\n",
    "plt.ylabel('Count of Complaints')\n",
    "plt.title('Top 3 Complaints in the Year 2011')"
   ]
  },
  {
   "cell_type": "code",
   "execution_count": 176,
   "metadata": {},
   "outputs": [
    {
     "data": {
      "text/plain": [
       "Text(0.5, 1.0, 'Top 3 Issues in the Year 2012')"
      ]
     },
     "execution_count": 176,
     "metadata": {},
     "output_type": "execute_result"
    },
    {
     "data": {
      "image/png": "[encoded data removed]",
      "text/plain": [
       "<Figure size 720x576 with 1 Axes>"
      ]
     },
     "metadata": {
      "needs_background": "light"
     },
     "output_type": "display_data"
    }
   ],
   "source": [
    "df_year2012_top3\n",
    "df_2012_top3 = ['loan', 'payment', 'account']\n",
    "df_axis_2012 = np.arange(len(df_year2012_top3.iloc[0:,:0]))\n",
    "\n",
    "plt.bar(df_axis_2012, df_year2012_top3['Count'])\n",
    "plt.xticks(df_axis_2012, df_2012_top3)\n",
    "plt.xlabel('Issues')\n",
    "plt.ylabel('Count of Complaints')\n",
    "plt.title('Top 3 Issues in the Year 2012')"
   ]
  },
  {
   "cell_type": "code",
   "execution_count": 177,
   "metadata": {},
   "outputs": [
    {
     "data": {
      "text/plain": [
       "Text(0.5, 1.0, 'Top 3 Issues in the Year 2013')"
      ]
     },
     "execution_count": 177,
     "metadata": {},
     "output_type": "execute_result"
    },
    {
     "data": {
      "image/png": "[encoded data removed]",
      "text/plain": [
       "<Figure size 720x576 with 1 Axes>"
      ]
     },
     "metadata": {
      "needs_background": "light"
     },
     "output_type": "display_data"
    }
   ],
   "source": [
    "df_year2013_top3\n",
    "df_2013_top3 = ['loan', 'credit', 'payment']\n",
    "df_axis_2013 = np.arange(len(df_year2013_top3.iloc[0:,:0]))\n",
    "\n",
    "plt.bar(df_axis_2013, df_year2013_top3['Count'])\n",
    "plt.xticks(df_axis_2013, df_2013_top3)\n",
    "plt.xlabel('Issues')\n",
    "plt.ylabel('Count of Complaints')\n",
    "plt.title('Top 3 Issues in the Year 2013')"
   ]
  },
  {
   "cell_type": "code",
   "execution_count": 178,
   "metadata": {},
   "outputs": [
    {
     "data": {
      "text/plain": [
       "Text(0.5, 1.0, 'Top 3 Issues in the Year 2014')"
      ]
     },
     "execution_count": 178,
     "metadata": {},
     "output_type": "execute_result"
    },
    {
     "data": {
      "image/png": "[encoded data removed]",
      "text/plain": [
       "<Figure size 720x576 with 1 Axes>"
      ]
     },
     "metadata": {
      "needs_background": "light"
     },
     "output_type": "display_data"
    }
   ],
   "source": [
    "df_year2014_top3\n",
    "df_2014_top3 = ['credit', 'loan', 'debt']\n",
    "df_axis_2014 = np.arange(len(df_year2014_top3.iloc[0:,:0]))\n",
    "\n",
    "plt.bar(df_axis_2014, df_year2014_top3['Count'])\n",
    "\n",
    "plt.xticks(df_axis_2014, df_2014_top3)\n",
    "plt.xlabel('Issues')\n",
    "plt.ylabel('Count of Complaints')\n",
    "plt.title('Top 3 Issues in the Year 2014')"
   ]
  },
  {
   "cell_type": "code",
   "execution_count": 179,
   "metadata": {},
   "outputs": [
    {
     "data": {
      "text/plain": [
       "Text(0.5, 1.0, 'Top 3 Issues in the Year 2015')"
      ]
     },
     "execution_count": 179,
     "metadata": {},
     "output_type": "execute_result"
    },
    {
     "data": {
      "image/png": "[encoded data removed]",
      "text/plain": [
       "<Figure size 720x576 with 1 Axes>"
      ]
     },
     "metadata": {
      "needs_background": "light"
     },
     "output_type": "display_data"
    }
   ],
   "source": [
    "df_year2015_top3\n",
    "df_2015_top3 = ['credit', 'loan', 'debt']\n",
    "df_axis_2015 = np.arange(len(df_year2015_top3.iloc[0:,:0]))\n",
    "\n",
    "plt.bar(df_axis_2015, df_year2015_top3['Count'])\n",
    "\n",
    "plt.xticks(df_axis_2015, df_2015_top3)\n",
    "plt.xlabel('Issues')\n",
    "plt.ylabel('Count of Complaints')\n",
    "plt.title('Top 3 Issues in the Year 2015')"
   ]
  },
  {
   "cell_type": "code",
   "execution_count": 180,
   "metadata": {},
   "outputs": [
    {
     "data": {
      "text/plain": [
       "Text(0.5, 1.0, 'Top 3 Issues in the Year 2016')"
      ]
     },
     "execution_count": 180,
     "metadata": {},
     "output_type": "execute_result"
    },
    {
     "data": {
      "image/png": "[encoded data removed]",
      "text/plain": [
       "<Figure size 720x576 with 1 Axes>"
      ]
     },
     "metadata": {
      "needs_background": "light"
     },
     "output_type": "display_data"
    }
   ],
   "source": [
    "df_year2016_top3\n",
    "df_2016_top3 = ['credit', 'debt', 'loan']\n",
    "df_axis_2016 = np.arange(len(df_year2016_top3.iloc[0:,:0]))\n",
    "\n",
    "plt.bar(df_axis_2016, df_year2016_top3['Count'])\n",
    "\n",
    "plt.xticks(df_axis_2016, df_2016_top3)\n",
    "plt.xlabel('Issues')\n",
    "plt.ylabel('Count of Complaints')\n",
    "plt.title('Top 3 Issues in the Year 2016')"
   ]
  },
  {
   "cell_type": "code",
   "execution_count": 187,
   "metadata": {},
   "outputs": [
    {
     "data": {
      "text/plain": [
       "Text(0.5, 1.0, 'Top 3 Issues in the Year 2017')"
      ]
     },
     "execution_count": 187,
     "metadata": {},
     "output_type": "execute_result"
    },
    {
     "data": {
      "image/png": "[encoded data removed]",
      "text/plain": [
       "<Figure size 720x576 with 1 Axes>"
      ]
     },
     "metadata": {
      "needs_background": "light"
     },
     "output_type": "display_data"
    }
   ],
   "source": [
    "df_year2017_top3\n",
    "df_2017_top3 = ['report', 'credit', 'debt']\n",
    "df_axis_2017 = np.arange(len(df_year2017_top3.iloc[0:,:0]))\n",
    "\n",
    "plt.bar(df_axis_2017, df_year2017_top3['Count'])\n",
    "\n",
    "plt.xticks(df_axis_2017, df_2017_top3)\n",
    "plt.xlabel('Issues')\n",
    "plt.ylabel('Count of Complaints')\n",
    "plt.title('Top 3 Issues in the Year 2017')"
   ]
  },
  {
   "cell_type": "code",
   "execution_count": 189,
   "metadata": {},
   "outputs": [
    {
     "data": {
      "text/plain": [
       "Text(0.5, 1.0, 'Top 3 Issues in the Year 2018')"
      ]
     },
     "execution_count": 189,
     "metadata": {},
     "output_type": "execute_result"
    },
    {
     "data": {
      "image/png": "[encoded data removed]",
      "text/plain": [
       "<Figure size 720x576 with 1 Axes>"
      ]
     },
     "metadata": {
      "needs_background": "light"
     },
     "output_type": "display_data"
    }
   ],
   "source": [
    "df_year2018_top3\n",
    "df_2018_top3 = ['report', 'debt', 'credit']\n",
    "df_axis_2018 = np.arange(len(df_year2018_top3.iloc[0:,:0]))\n",
    "\n",
    "plt.bar(df_axis_2018, df_year2018_top3['Count'])\n",
    "\n",
    "plt.xticks(df_axis_2018, df_2018_top3)\n",
    "plt.xlabel('Issues')\n",
    "plt.ylabel('Count of Complaints')\n",
    "plt.title('Top 3 Issues in the Year 2018')"
   ]
  },
  {
   "cell_type": "code",
   "execution_count": 192,
   "metadata": {},
   "outputs": [
    {
     "data": {
      "text/plain": [
       "Text(0.5, 1.0, 'Top 3 Issues in the Year 2019')"
      ]
     },
     "execution_count": 192,
     "metadata": {},
     "output_type": "execute_result"
    },
    {
     "data": {
      "image/png": "[encoded data removed]",
      "text/plain": [
       "<Figure size 720x576 with 1 Axes>"
      ]
     },
     "metadata": {
      "needs_background": "light"
     },
     "output_type": "display_data"
    }
   ],
   "source": [
    "df_year2019_top3\n",
    "df_2019_top3 = ['report', 'credit', 'debt']\n",
    "df_axis_2019 = np.arange(len(df_year2019_top3.iloc[0:,:0]))\n",
    "\n",
    "plt.bar(df_axis_2019, df_year2019_top3['Count'])\n",
    "\n",
    "plt.xticks(df_axis_2019, df_2019_top3)\n",
    "plt.xlabel('Issues')\n",
    "plt.ylabel('Count of Complaints')\n",
    "plt.title('Top 3 Issues in the Year 2019')"
   ]
  },
  {
   "cell_type": "markdown",
   "metadata": {},
   "source": [
    "### Displays the Company response to Consumer"
   ]
  },
  {
   "cell_type": "code",
   "execution_count": 196,
   "metadata": {},
   "outputs": [
    {
     "data": {
      "text/plain": [
       "Closed with explanation            1153588\n",
       "Closed with non-monetary relief     190660\n",
       "Closed with monetary relief          82341\n",
       "Closed without relief                17868\n",
       "Closed                               17611\n",
       "Untimely response                     6034\n",
       "Closed with relief                    5304\n",
       "In progress                              1\n",
       "dtype: int64"
      ]
     },
     "execution_count": 196,
     "metadata": {},
     "output_type": "execute_result"
    }
   ],
   "source": [
    "pd.value_counts(df['Company response to consumer'].values.flatten())"
   ]
  },
  {
   "cell_type": "code",
   "execution_count": 198,
   "metadata": {},
   "outputs": [],
   "source": [
    "df = df.rename(columns = {'Company response to consumer':'Company_response_to_consumer'})"
   ]
  },
  {
   "cell_type": "code",
   "execution_count": 203,
   "metadata": {},
   "outputs": [
    {
     "data": {
      "text/html": [
       "<div>\n",
       "<style scoped>\n",
       "    .dataframe tbody tr th:only-of-type {\n",
       "        vertical-align: middle;\n",
       "    }\n",
       "\n",
       "    .dataframe tbody tr th {\n",
       "        vertical-align: top;\n",
       "    }\n",
       "\n",
       "    .dataframe thead th {\n",
       "        text-align: right;\n",
       "    }\n",
       "</style>\n",
       "<table border=\"1\" class=\"dataframe\">\n",
       "  <thead>\n",
       "    <tr style=\"text-align: right;\">\n",
       "      <th></th>\n",
       "      <th>Complaint ID</th>\n",
       "      <th>Date received</th>\n",
       "      <th>Product</th>\n",
       "      <th>Sub-product</th>\n",
       "      <th>Issue</th>\n",
       "      <th>Sub-issue</th>\n",
       "      <th>Company public response</th>\n",
       "      <th>Company</th>\n",
       "      <th>State</th>\n",
       "      <th>ZIP code</th>\n",
       "      <th>...</th>\n",
       "      <th>Date sent to company</th>\n",
       "      <th>Timely response?</th>\n",
       "      <th>Consumer disputed?</th>\n",
       "      <th>Company_response_to_consumer</th>\n",
       "      <th>year</th>\n",
       "      <th>month</th>\n",
       "      <th>day</th>\n",
       "      <th>issue_filtered</th>\n",
       "      <th>Count</th>\n",
       "      <th>response_filtered</th>\n",
       "    </tr>\n",
       "  </thead>\n",
       "  <tbody>\n",
       "  </tbody>\n",
       "</table>\n",
       "<p>0 rows × 22 columns</p>\n",
       "</div>"
      ],
      "text/plain": [
       "Empty DataFrame\n",
       "Columns: [Complaint ID, Date received, Product, Sub-product, Issue, Sub-issue, Company public response, Company, State, ZIP code, Consumer consent provided?, Submitted via, Date sent to company, Timely response?, Consumer disputed?, Company_response_to_consumer, year, month, day, issue_filtered, Count, response_filtered]\n",
       "Index: []\n",
       "\n",
       "[0 rows x 22 columns]"
      ]
     },
     "execution_count": 203,
     "metadata": {},
     "output_type": "execute_result"
    }
   ],
   "source": [
    "df['response_filtered'] = pd.np.where(df.Company_response_to_consumer.str.contains('Closed'),'Closed',\n",
    "                            pd.np.where(df.Company_response_to_consumer.str.contains('Untimely response'),'Untimely response',\n",
    "                            pd.np.where(df.Company_response_to_consumer.str.contains('In progress'),'In progress','Others')))\n",
    "\n",
    "df[df['response_filtered'] == 'Others']"
   ]
  },
  {
   "cell_type": "code",
   "execution_count": 294,
   "metadata": {},
   "outputs": [
    {
     "data": {
      "text/plain": [
       "Text(0.5, 1.0, 'Company Response to the Complaints')"
      ]
     },
     "execution_count": 294,
     "metadata": {},
     "output_type": "execute_result"
    },
    {
     "data": {
      "image/png": "[encoded data removed]",
      "text/plain": [
       "<Figure size 720x576 with 1 Axes>"
      ]
     },
     "metadata": {},
     "output_type": "display_data"
    }
   ],
   "source": [
    "df_response = df.groupby('response_filtered').sum().sort_values('Count', ascending = False)\n",
    "df_response_list = ['Closed', 'Untimely response', '']\n",
    "plt.pie(df_response['Count'], labels = df_response_list, explode = [0.2,0,0])\n",
    "plt.title('Company Response to the Complaints')"
   ]
  },
  {
   "cell_type": "code",
   "execution_count": 297,
   "metadata": {},
   "outputs": [
    {
     "data": {
      "text/plain": [
       "Text(0.5, 1.0, 'Company Response to the Complaints')"
      ]
     },
     "execution_count": 297,
     "metadata": {},
     "output_type": "execute_result"
    },
    {
     "data": {
      "image/png": "[encoded data removed]",
      "text/plain": [
       "<Figure size 720x576 with 1 Axes>"
      ]
     },
     "metadata": {
      "needs_background": "light"
     },
     "output_type": "display_data"
    }
   ],
   "source": [
    "df_response_list = ['Closed', 'Untimely response', 'In progress']\n",
    "df_axis_response = np.arange(len(df_response.iloc[0:,:0]))\n",
    "\n",
    "plt.bar(df_axis_response, df_response['Count'])\n",
    "plt.xticks(df_axis_response, df_response_list)\n",
    "plt.xlabel('Company Response')\n",
    "plt.ylabel('Complaints')\n",
    "plt.title('Company Response to the Complaints')"
   ]
  },
  {
   "cell_type": "markdown",
   "metadata": {},
   "source": [
    "### Displays Company response to the consumers' complaint in each year"
   ]
  },
  {
   "cell_type": "code",
   "execution_count": 232,
   "metadata": {},
   "outputs": [
    {
     "data": {
      "text/html": [
       "<div>\n",
       "<style scoped>\n",
       "    .dataframe tbody tr th:only-of-type {\n",
       "        vertical-align: middle;\n",
       "    }\n",
       "\n",
       "    .dataframe tbody tr th {\n",
       "        vertical-align: top;\n",
       "    }\n",
       "\n",
       "    .dataframe thead th {\n",
       "        text-align: right;\n",
       "    }\n",
       "</style>\n",
       "<table border=\"1\" class=\"dataframe\">\n",
       "  <thead>\n",
       "    <tr style=\"text-align: right;\">\n",
       "      <th></th>\n",
       "      <th>Complaint ID</th>\n",
       "      <th>month</th>\n",
       "      <th>day</th>\n",
       "      <th>Count</th>\n",
       "    </tr>\n",
       "    <tr>\n",
       "      <th>year</th>\n",
       "      <th></th>\n",
       "      <th></th>\n",
       "      <th></th>\n",
       "      <th></th>\n",
       "    </tr>\n",
       "  </thead>\n",
       "  <tbody>\n",
       "    <tr>\n",
       "      <th>2011</th>\n",
       "      <td>21734279</td>\n",
       "      <td>30216</td>\n",
       "      <td>35179</td>\n",
       "      <td>2518</td>\n",
       "    </tr>\n",
       "    <tr>\n",
       "      <th>2012</th>\n",
       "      <td>8263414985</td>\n",
       "      <td>497568</td>\n",
       "      <td>1143173</td>\n",
       "      <td>72138</td>\n",
       "    </tr>\n",
       "    <tr>\n",
       "      <th>2013</th>\n",
       "      <td>49112658703</td>\n",
       "      <td>712542</td>\n",
       "      <td>1709987</td>\n",
       "      <td>108150</td>\n",
       "    </tr>\n",
       "    <tr>\n",
       "      <th>2014</th>\n",
       "      <td>139349981721</td>\n",
       "      <td>973035</td>\n",
       "      <td>2409899</td>\n",
       "      <td>152605</td>\n",
       "    </tr>\n",
       "    <tr>\n",
       "      <th>2015</th>\n",
       "      <td>243370138753</td>\n",
       "      <td>1099274</td>\n",
       "      <td>2651854</td>\n",
       "      <td>167660</td>\n",
       "    </tr>\n",
       "    <tr>\n",
       "      <th>2016</th>\n",
       "      <td>381757890092</td>\n",
       "      <td>1263770</td>\n",
       "      <td>2998759</td>\n",
       "      <td>190531</td>\n",
       "    </tr>\n",
       "    <tr>\n",
       "      <th>2017</th>\n",
       "      <td>616632336316</td>\n",
       "      <td>1592301</td>\n",
       "      <td>3785422</td>\n",
       "      <td>241638</td>\n",
       "    </tr>\n",
       "    <tr>\n",
       "      <th>2018</th>\n",
       "      <td>752660110209</td>\n",
       "      <td>1603072</td>\n",
       "      <td>3998559</td>\n",
       "      <td>255940</td>\n",
       "    </tr>\n",
       "    <tr>\n",
       "      <th>2019</th>\n",
       "      <td>911346980527</td>\n",
       "      <td>1834937</td>\n",
       "      <td>4339616</td>\n",
       "      <td>276192</td>\n",
       "    </tr>\n",
       "  </tbody>\n",
       "</table>\n",
       "</div>"
      ],
      "text/plain": [
       "      Complaint ID    month      day   Count\n",
       "year                                        \n",
       "2011      21734279    30216    35179    2518\n",
       "2012    8263414985   497568  1143173   72138\n",
       "2013   49112658703   712542  1709987  108150\n",
       "2014  139349981721   973035  2409899  152605\n",
       "2015  243370138753  1099274  2651854  167660\n",
       "2016  381757890092  1263770  2998759  190531\n",
       "2017  616632336316  1592301  3785422  241638\n",
       "2018  752660110209  1603072  3998559  255940\n",
       "2019  911346980527  1834937  4339616  276192"
      ]
     },
     "execution_count": 232,
     "metadata": {},
     "output_type": "execute_result"
    }
   ],
   "source": [
    "df_closed = df[df['response_filtered'] == 'Closed'].groupby('year').sum()\n",
    "df_untimely = df[df['response_filtered'] == 'Untimely response'].groupby('year').sum()\n",
    "df_in_progress = df[df['response_filtered'] == 'In progress'].groupby('year').sum()\n",
    "df_closed"
   ]
  },
  {
   "cell_type": "code",
   "execution_count": 289,
   "metadata": {
    "scrolled": false
   },
   "outputs": [
    {
     "data": {
      "text/plain": [
       "([<matplotlib.axis.XTick at 0x201168f6978>,\n",
       "  <matplotlib.axis.XTick at 0x2011684d080>,\n",
       "  <matplotlib.axis.XTick at 0x2011684c208>,\n",
       "  <matplotlib.axis.XTick at 0x20116811940>,\n",
       "  <matplotlib.axis.XTick at 0x20116811978>,\n",
       "  <matplotlib.axis.XTick at 0x2011680e358>,\n",
       "  <matplotlib.axis.XTick at 0x20116811550>,\n",
       "  <matplotlib.axis.XTick at 0x2011680b278>,\n",
       "  <matplotlib.axis.XTick at 0x20116808940>],\n",
       " <a list of 9 Text xticklabel objects>)"
      ]
     },
     "execution_count": 289,
     "metadata": {},
     "output_type": "execute_result"
    },
    {
     "data": {
      "image/png": "[encoded data removed]",
      "text/plain": [
       "<Figure size 720x576 with 1 Axes>"
      ]
     },
     "metadata": {
      "needs_background": "light"
     },
     "output_type": "display_data"
    }
   ],
   "source": [
    "df_yearly = df.sort_values('year', ascending = True).drop_duplicates('year')\n",
    "df_yearly = df_yearly['year'].tolist()\n",
    "df_axis_yearly = np.arange(len(df_closed.iloc[0:,:0]))\n",
    "bar_width = 0.25\n",
    "\n",
    "plt.bar(df_axis_yearly - bar_width/2, df_closed['Count'], bar_width)\n",
    "plt.bar(df_axis_yearly + bar_width/2, df_untimely['Count'], bar_width)\n",
    "plt.xticks(df_axis_yearly, df_yearly)\n",
    "plt.xlabel('Years')\n",
    "plt.ylabel('Complaints')\n",
    "plt.title"
   ]
  },
  {
   "cell_type": "markdown",
   "metadata": {},
   "source": [
    "### Displays if the complaints resolved in timely manner"
   ]
  },
  {
   "cell_type": "code",
   "execution_count": 291,
   "metadata": {},
   "outputs": [
    {
     "data": {
      "text/plain": [
       "Text(0.5, 1.0, 'Complaints responsed in timely manner')"
      ]
     },
     "execution_count": 291,
     "metadata": {},
     "output_type": "execute_result"
    },
    {
     "data": {
      "image/png": "[encoded data removed]",
      "text/plain": [
       "<Figure size 720x576 with 1 Axes>"
      ]
     },
     "metadata": {},
     "output_type": "display_data"
    }
   ],
   "source": [
    "df_timely_response = df.groupby('Timely response?').sum().sort_values('Count', ascending = False)\n",
    "df_tr_list = ['Yes', 'No']\n",
    "df_axis_tr = np.arange(len(df_timely_response.iloc[0:,:0]))\n",
    "\n",
    "plt.pie(df_timely_response['Count'], labels = df_tr_list, explode = [0.2,0])\n",
    "plt.title('Complaints responsed in timely manner')"
   ]
  },
  {
   "cell_type": "markdown",
   "metadata": {},
   "source": [
    "### Saving as a csv file"
   ]
  },
  {
   "cell_type": "code",
   "execution_count": 51,
   "metadata": {},
   "outputs": [],
   "source": [
    "df.to_csv(r\"C:\\Users\\jethro\\Desktop\\customer_complaints_processed.csv\")"
   ]
  }
 ],
 "metadata": {
  "kernelspec": {
   "display_name": "Python 3",
   "language": "python",
   "name": "python3"
  },
  "language_info": {
   "codemirror_mode": {
    "name": "ipython",
    "version": 3
   },
   "file_extension": ".py",
   "mimetype": "text/x-python",
   "name": "python",
   "nbconvert_exporter": "python",
   "pygments_lexer": "ipython3",
   "version": "3.7.3"
  }
 },
 "nbformat": 4,
 "nbformat_minor": 2
}
